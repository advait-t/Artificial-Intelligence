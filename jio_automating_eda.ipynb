{
  "nbformat": 4,
  "nbformat_minor": 0,
  "metadata": {
    "accelerator": "GPU",
    "colab": {
      "name": "jio_automating_eda.ipynb",
      "provenance": [],
      "collapsed_sections": [],
      "include_colab_link": true
    },
    "hide_input": false,
    "kernelspec": {
      "display_name": "Python 3",
      "language": "python",
      "name": "python3"
    },
    "toc": {
      "base_numbering": 1,
      "nav_menu": {},
      "number_sections": true,
      "sideBar": true,
      "skip_h1_title": false,
      "title_cell": "Table of Contents",
      "title_sidebar": "Contents",
      "toc_cell": false,
      "toc_position": {},
      "toc_section_display": true,
      "toc_window_display": false
    }
  },
  "cells": [
    {
      "cell_type": "markdown",
      "metadata": {
        "id": "view-in-github",
        "colab_type": "text"
      },
      "source": [
        "<a href=\"https://colab.research.google.com/github/advait-t/Artificial-Intelligence/blob/master/jio_automating_eda.ipynb\" target=\"_parent\"><img src=\"https://colab.research.google.com/assets/colab-badge.svg\" alt=\"Open In Colab\"/></a>"
      ]
    },
    {
      "cell_type": "code",
      "metadata": {
        "colab": {
          "base_uri": "https://localhost:8080/"
        },
        "id": "o_IGeURdOspL",
        "outputId": "feb9686e-ed96-489b-f1d8-60cbddc98f49"
      },
      "source": [
        "from google.colab import drive\n",
        "drive.mount('/content/drive')"
      ],
      "execution_count": 1,
      "outputs": [
        {
          "output_type": "stream",
          "text": [
            "Drive already mounted at /content/drive; to attempt to forcibly remount, call drive.mount(\"/content/drive\", force_remount=True).\n"
          ],
          "name": "stdout"
        }
      ]
    },
    {
      "cell_type": "code",
      "metadata": {
        "id": "2T4p_msDfKEP"
      },
      "source": [
        "import pandas as pd\n",
        "import numpy as np\n",
        "import matplotlib.pyplot as plt\n",
        "import seaborn as sns\n",
        "import plotly.express as px\n",
        "from sklearn.preprocessing import LabelEncoder\n",
        "from sklearn.preprocessing import StandardScaler"
      ],
      "execution_count": 2,
      "outputs": []
    },
    {
      "cell_type": "code",
      "metadata": {
        "id": "TMHSfqffzdC6"
      },
      "source": [
        "def missing_values_table(df):\n",
        "        mis_val = df.isnull().sum()\n",
        "        mis_val_percent = 100 * df.isnull().sum() / len(df)\n",
        "        mis_val_table = pd.concat([mis_val, mis_val_percent], axis=1)\n",
        "        mis_val_table_ren_columns = mis_val_table.rename(\n",
        "        columns = {0 : 'Missing Values', 1 : '% of Total Values'})\n",
        "        mis_val_table_ren_columns = mis_val_table_ren_columns[\n",
        "            mis_val_table_ren_columns.iloc[:,1] != 0].sort_values(\n",
        "        '% of Total Values', ascending=False).round(1)\n",
        "        # print (\"Your selected dataframe has \" + str(df.shape[1]) + \" columns.\\n\"      \n",
        "        #     \"There are \" + str(mis_val_table_ren_columns.shape[0]) +\n",
        "        #       \" columns that have missing values.\")\n",
        "        return mis_val_table_ren_columns"
      ],
      "execution_count": 3,
      "outputs": []
    },
    {
      "cell_type": "code",
      "metadata": {
        "id": "NWmw13FPJhSw"
      },
      "source": [
        "def drop_na(data):   \n",
        "    missing_values = pd.DataFrame(missing_values_table(data))\n",
        "    for i in range(len(missing_values['% of Total Values'])):\n",
        "        if missing_values['% of Total Values'][i] <= 20:\n",
        "            cols = list(missing_values.index.values)\n",
        "            data.dropna(subset = cols, inplace=True)\n",
        "    drop_thresh = data.shape[0]*.9\n",
        "    data = data.dropna(thresh=drop_thresh, how='all', axis='columns').copy()\n",
        "    return data"
      ],
      "execution_count": 4,
      "outputs": []
    },
    {
      "cell_type": "markdown",
      "metadata": {
        "id": "vLPRilneaohj"
      },
      "source": [
        "Making a generalised apprach for unique values"
      ]
    },
    {
      "cell_type": "code",
      "metadata": {
        "id": "NzfVPYcD0ZWx"
      },
      "source": [
        "def unique_value_count(data):\n",
        "    unique_counts = pd.DataFrame.from_records([(col, data[col].nunique()) for col in data.columns],columns=['Column_Name', 'Num_Unique']).sort_values(by=['Num_Unique'])\n",
        "    return unique_counts"
      ],
      "execution_count": 5,
      "outputs": []
    },
    {
      "cell_type": "code",
      "metadata": {
        "id": "WNM4oV0SJkAx"
      },
      "source": [
        "def convert_dtype(data,unique=0):\n",
        "    unique_counts = pd.DataFrame.from_records([(col, data[col].nunique()) for col in data.columns],columns=['Column_Name', 'Num_Unique']).sort_values(by=['Num_Unique'])\n",
        "    if unique == 0:\n",
        "        unique = 40\n",
        "    for i in data.columns:\n",
        "        if data[i].nunique() <= unique:\n",
        "            data[i] = data[i].astype('object')\n",
        "        else: #data.dtypes[i] != object:\n",
        "            data[i] = data[i].astype('float64')\n",
        "    return data"
      ],
      "execution_count": 6,
      "outputs": []
    },
    {
      "cell_type": "code",
      "metadata": {
        "id": "9VXYsshzJ6do"
      },
      "source": [
        "def columns_select(data,exclude):\n",
        "    data = data.select_dtypes(exclude=[exclude])\n",
        "    return data"
      ],
      "execution_count": 7,
      "outputs": []
    },
    {
      "cell_type": "code",
      "metadata": {
        "id": "o80LYm-NW_O8"
      },
      "source": [
        "def read_data(path):\n",
        "    if path.lower().endswith(('.csv')):\n",
        "        data = pd.read_csv(path)\n",
        "    else:\n",
        "        data = pd.read_parquet(path, engine='pyarrow')\n",
        "    return data"
      ],
      "execution_count": 8,
      "outputs": []
    },
    {
      "cell_type": "code",
      "metadata": {
        "id": "ti8G_TSuwVsf"
      },
      "source": [
        "def col_lis(data):\n",
        "    column_names = data.columns\n",
        "    return column_names"
      ],
      "execution_count": 9,
      "outputs": []
    },
    {
      "cell_type": "code",
      "metadata": {
        "id": "4gujTAZ9z6Sb"
      },
      "source": [
        "def display_bar_categorical(data):\n",
        "    data = columns_select(data,'float64')\n",
        "    data = columns_select(data,'int64')\n",
        "    column_names = data.columns\n",
        "    try:\n",
        "        for i in range(len(column_names)):\n",
        "            #dfg = data1.groupby(column_names[i]).count()\n",
        "\n",
        "            fig = px.histogram(data, x = column_names[i-1], color=column_names[i-1]) # add percentage values for each\n",
        "            #fig = px.bar(dfg, x=column_names[i-1], y=column_names[i-1])\n",
        "            fig.show()\n",
        "    except:\n",
        "        pass\n",
        "    return data"
      ],
      "execution_count": 10,
      "outputs": []
    },
    {
      "cell_type": "code",
      "metadata": {
        "id": "bC7EXGi1hf_x"
      },
      "source": [
        "def check_special_char(data):\n",
        "    special_char = ['?', '!','-','*']\n",
        "    data = data.replace(special_char, np.nan)\n",
        "    return data"
      ],
      "execution_count": 11,
      "outputs": []
    },
    {
      "cell_type": "code",
      "metadata": {
        "id": "MHzpmau_puSM"
      },
      "source": [
        "def label_encoding(data):\n",
        "    categorical_feature_mask = data.dtypes==object\n",
        "    categorical_cols = data.columns[categorical_feature_mask].tolist()\n",
        "    le = LabelEncoder()\n",
        "    data[categorical_cols] = data[categorical_cols].apply(lambda col: le.fit_transform(col))\n",
        "    return data, categorical_cols"
      ],
      "execution_count": 12,
      "outputs": []
    },
    {
      "cell_type": "code",
      "metadata": {
        "id": "6sSz6CzTfeua"
      },
      "source": [
        "def drop_columns(data,column_names):\n",
        "    data = data.drop(column_names, axis = 1)\n",
        "    return data"
      ],
      "execution_count": 13,
      "outputs": []
    },
    {
      "cell_type": "code",
      "metadata": {
        "id": "9xBnyyEvg_NV"
      },
      "source": [
        "def create_bins(data,old_column_names,new_column_names,drop_old_column,bins, labels):\n",
        "    bins_items = list(bins.values())[0]\n",
        "    labels_items = list(labels.values())[0]\n",
        "\n",
        "    for i in range(len(old_column_names)):\n",
        "        bins_items = list(bins.values())[i]\n",
        "        labels_items = list(labels.values())[i]\n",
        "        data[new_column_names[i]] = pd.cut(data[old_column_names[i]], bins = bins_items, labels = labels_items)\n",
        "    if drop_old_column == 'yes':\n",
        "        data=data.drop(old_column_names, axis = 1)\n",
        "    else:\n",
        "        pass\n",
        "    return data"
      ],
      "execution_count": 14,
      "outputs": []
    },
    {
      "cell_type": "code",
      "metadata": {
        "id": "w0TeerwwRgV8"
      },
      "source": [
        "#standard scaler for continuous variables\n",
        "def scaler_int(data):\n",
        "    continuous_feature_mask = data.dtypes== int\n",
        "    #continuous_feature_mask1 = data.dtypes== float\n",
        "    continuous_cols = data.columns[continuous_feature_mask].tolist()\n",
        "    #continuous_cols1 = data.columns[continuous_feature_mask1].tolist()\n",
        "    sc = StandardScaler()\n",
        "    data[continuous_cols] = data[continuous_cols].apply(lambda col: sc.fit_transform(col))\n",
        "    #data[continuous_cols1] = data[continuous_cols1].apply(lambda col1: sc.fit_transform(col1))\n",
        "    return data, continuous_cols"
      ],
      "execution_count": 15,
      "outputs": []
    },
    {
      "cell_type": "code",
      "metadata": {
        "id": "l3yXSoLwAeOC"
      },
      "source": [
        "def scaler_float(data):\n",
        "    continuous_feature_mask = data.dtypes== int\n",
        "    continuous_cols = data.columns[continuous_feature_mask].tolist()\n",
        "    data1 = data.drop(continuous_cols, axis = 1)\n",
        "    sc = StandardScaler()\n",
        "    data1 = sc.fit_transform(data1)\n",
        "    data1 = pd.DataFrame(data1)\n",
        "    data[continuous_cols].update(data1)\n",
        "    data = pd.DataFrame(data)\n",
        "    return data, continuous_cols"
      ],
      "execution_count": 16,
      "outputs": []
    },
    {
      "cell_type": "code",
      "metadata": {
        "id": "_N_WapkhGYd5"
      },
      "source": [
        ""
      ],
      "execution_count": 16,
      "outputs": []
    },
    {
      "cell_type": "code",
      "metadata": {
        "id": "0nMDwZ91L2aP"
      },
      "source": [
        "data = read_data('/content/drive/MyDrive/Jio/tmp/digitaltwinoct19102020withappdata')"
      ],
      "execution_count": 17,
      "outputs": []
    },
    {
      "cell_type": "code",
      "metadata": {
        "id": "lcWhoLQ4feuc"
      },
      "source": [
        "column_names = ['context_time_5min','entity_user_imsi', 'entity_cell_id']\n",
        "data = drop_columns(data,column_names)"
      ],
      "execution_count": 18,
      "outputs": []
    },
    {
      "cell_type": "code",
      "metadata": {
        "colab": {
          "base_uri": "https://localhost:8080/"
        },
        "id": "F9BcrTRZfeuc",
        "outputId": "82bc0a63-9a05-4eab-c13a-e1a2639f971a"
      },
      "source": [
        "data.shape"
      ],
      "execution_count": 19,
      "outputs": [
        {
          "output_type": "execute_result",
          "data": {
            "text/plain": [
              "(1551791, 16)"
            ]
          },
          "metadata": {
            "tags": []
          },
          "execution_count": 19
        }
      ]
    },
    {
      "cell_type": "code",
      "metadata": {
        "id": "1bnE2A6Xh7I7"
      },
      "source": [
        "data = check_special_char(data)"
      ],
      "execution_count": 20,
      "outputs": []
    },
    {
      "cell_type": "code",
      "metadata": {
        "colab": {
          "base_uri": "https://localhost:8080/",
          "height": 49
        },
        "id": "7rRwxpPc03jy",
        "outputId": "f4b2cf75-f122-4ecd-d813-79b5e8a554b9"
      },
      "source": [
        "missing_values_table(data)"
      ],
      "execution_count": 21,
      "outputs": [
        {
          "output_type": "execute_result",
          "data": {
            "text/html": [
              "<div>\n",
              "<style scoped>\n",
              "    .dataframe tbody tr th:only-of-type {\n",
              "        vertical-align: middle;\n",
              "    }\n",
              "\n",
              "    .dataframe tbody tr th {\n",
              "        vertical-align: top;\n",
              "    }\n",
              "\n",
              "    .dataframe thead th {\n",
              "        text-align: right;\n",
              "    }\n",
              "</style>\n",
              "<table border=\"1\" class=\"dataframe\">\n",
              "  <thead>\n",
              "    <tr style=\"text-align: right;\">\n",
              "      <th></th>\n",
              "      <th>Missing Values</th>\n",
              "      <th>% of Total Values</th>\n",
              "    </tr>\n",
              "  </thead>\n",
              "  <tbody>\n",
              "  </tbody>\n",
              "</table>\n",
              "</div>"
            ],
            "text/plain": [
              "Empty DataFrame\n",
              "Columns: [Missing Values, % of Total Values]\n",
              "Index: []"
            ]
          },
          "metadata": {
            "tags": []
          },
          "execution_count": 21
        }
      ]
    },
    {
      "cell_type": "code",
      "metadata": {
        "id": "bY9mIzsu5ZdI"
      },
      "source": [
        "data = drop_na(data)"
      ],
      "execution_count": 22,
      "outputs": []
    },
    {
      "cell_type": "code",
      "metadata": {
        "colab": {
          "base_uri": "https://localhost:8080/",
          "height": 49
        },
        "id": "wIxxYa23OHK4",
        "scrolled": true,
        "outputId": "a7df2419-1515-4483-a9df-9e80a75aa05e"
      },
      "source": [
        "missing_values_table(data)"
      ],
      "execution_count": 23,
      "outputs": [
        {
          "output_type": "execute_result",
          "data": {
            "text/html": [
              "<div>\n",
              "<style scoped>\n",
              "    .dataframe tbody tr th:only-of-type {\n",
              "        vertical-align: middle;\n",
              "    }\n",
              "\n",
              "    .dataframe tbody tr th {\n",
              "        vertical-align: top;\n",
              "    }\n",
              "\n",
              "    .dataframe thead th {\n",
              "        text-align: right;\n",
              "    }\n",
              "</style>\n",
              "<table border=\"1\" class=\"dataframe\">\n",
              "  <thead>\n",
              "    <tr style=\"text-align: right;\">\n",
              "      <th></th>\n",
              "      <th>Missing Values</th>\n",
              "      <th>% of Total Values</th>\n",
              "    </tr>\n",
              "  </thead>\n",
              "  <tbody>\n",
              "  </tbody>\n",
              "</table>\n",
              "</div>"
            ],
            "text/plain": [
              "Empty DataFrame\n",
              "Columns: [Missing Values, % of Total Values]\n",
              "Index: []"
            ]
          },
          "metadata": {
            "tags": []
          },
          "execution_count": 23
        }
      ]
    },
    {
      "cell_type": "code",
      "metadata": {
        "id": "-WGRgwFMg6QT"
      },
      "source": [
        "old_column_names = ['customer_download_throughput']\n",
        "new_column_names = ['customer_download_throughput_binned']\n",
        "drop_old_column = 'yes'\n",
        "bins = {\"1\":[0,500,int(max(data['customer_download_throughput']))]}\n",
        "labels = {\"1\":[1,0]}\n",
        "data = create_bins(data,old_column_names,new_column_names,drop_old_column,bins, labels)"
      ],
      "execution_count": 24,
      "outputs": []
    },
    {
      "cell_type": "code",
      "metadata": {
        "colab": {
          "base_uri": "https://localhost:8080/",
          "height": 224
        },
        "id": "4TW_T7P6oe8M",
        "outputId": "b35b28da-24e1-4921-b212-acd6ae4317a9"
      },
      "source": [
        "data.head()"
      ],
      "execution_count": 25,
      "outputs": [
        {
          "output_type": "execute_result",
          "data": {
            "text/html": [
              "<div>\n",
              "<style scoped>\n",
              "    .dataframe tbody tr th:only-of-type {\n",
              "        vertical-align: middle;\n",
              "    }\n",
              "\n",
              "    .dataframe tbody tr th {\n",
              "        vertical-align: top;\n",
              "    }\n",
              "\n",
              "    .dataframe thead th {\n",
              "        text-align: right;\n",
              "    }\n",
              "</style>\n",
              "<table border=\"1\" class=\"dataframe\">\n",
              "  <thead>\n",
              "    <tr style=\"text-align: right;\">\n",
              "      <th></th>\n",
              "      <th>entity_user_device</th>\n",
              "      <th>application_group</th>\n",
              "      <th>application_name</th>\n",
              "      <th>quantity_lsr_cqi</th>\n",
              "      <th>quantity_lsr_rsrp</th>\n",
              "      <th>quantity_lsr_rsrq</th>\n",
              "      <th>quantity_lsr_pusch_sinr</th>\n",
              "      <th>quantity_lsr_uplink_interference</th>\n",
              "      <th>quantity_lsr_ta</th>\n",
              "      <th>quantity_cell_probes_hsi_data_download_bytes</th>\n",
              "      <th>quantity_cell_probes_hsi_data_download_duration_millisecs</th>\n",
              "      <th>quantity_probes_hsi_data_download_bytes</th>\n",
              "      <th>quantity_probes_hsi_data_download_duration_millisecs</th>\n",
              "      <th>Hour</th>\n",
              "      <th>cell_download_throughput</th>\n",
              "      <th>customer_download_throughput_binned</th>\n",
              "    </tr>\n",
              "  </thead>\n",
              "  <tbody>\n",
              "    <tr>\n",
              "      <th>0</th>\n",
              "      <td>MDI2</td>\n",
              "      <td>WEB</td>\n",
              "      <td>izatcloud</td>\n",
              "      <td>7.000</td>\n",
              "      <td>-85.000</td>\n",
              "      <td>-17.333</td>\n",
              "      <td>20.150</td>\n",
              "      <td>-116.885</td>\n",
              "      <td>115.333</td>\n",
              "      <td>5476583.0</td>\n",
              "      <td>14442.0</td>\n",
              "      <td>5476583.0</td>\n",
              "      <td>14442.0</td>\n",
              "      <td>0</td>\n",
              "      <td>3034.0</td>\n",
              "      <td>0</td>\n",
              "    </tr>\n",
              "    <tr>\n",
              "      <th>1</th>\n",
              "      <td>CPH1823</td>\n",
              "      <td>Social</td>\n",
              "      <td>Whatsapp</td>\n",
              "      <td>11.000</td>\n",
              "      <td>-98.000</td>\n",
              "      <td>-11.000</td>\n",
              "      <td>15.300</td>\n",
              "      <td>-116.070</td>\n",
              "      <td>312.000</td>\n",
              "      <td>8170401.0</td>\n",
              "      <td>24199.0</td>\n",
              "      <td>8170401.0</td>\n",
              "      <td>24199.0</td>\n",
              "      <td>0</td>\n",
              "      <td>2701.0</td>\n",
              "      <td>0</td>\n",
              "    </tr>\n",
              "    <tr>\n",
              "      <th>2</th>\n",
              "      <td>1606</td>\n",
              "      <td>WEB</td>\n",
              "      <td>HTTPS</td>\n",
              "      <td>7.000</td>\n",
              "      <td>-106.000</td>\n",
              "      <td>-17.500</td>\n",
              "      <td>0.700</td>\n",
              "      <td>-113.550</td>\n",
              "      <td>234.000</td>\n",
              "      <td>67453891.0</td>\n",
              "      <td>253889.0</td>\n",
              "      <td>3601553.0</td>\n",
              "      <td>80525.0</td>\n",
              "      <td>0</td>\n",
              "      <td>2125.0</td>\n",
              "      <td>1</td>\n",
              "    </tr>\n",
              "    <tr>\n",
              "      <th>3</th>\n",
              "      <td>SM-T295</td>\n",
              "      <td>STREAMING</td>\n",
              "      <td>NetFlixVideo</td>\n",
              "      <td>8.600</td>\n",
              "      <td>-99.000</td>\n",
              "      <td>-12.700</td>\n",
              "      <td>14.100</td>\n",
              "      <td>-116.660</td>\n",
              "      <td>217.000</td>\n",
              "      <td>3616392.0</td>\n",
              "      <td>25739.0</td>\n",
              "      <td>3616392.0</td>\n",
              "      <td>25739.0</td>\n",
              "      <td>0</td>\n",
              "      <td>1124.0</td>\n",
              "      <td>0</td>\n",
              "    </tr>\n",
              "    <tr>\n",
              "      <th>4</th>\n",
              "      <td>M1803E6I</td>\n",
              "      <td>STREAMING</td>\n",
              "      <td>Youtube</td>\n",
              "      <td>10.600</td>\n",
              "      <td>-108.067</td>\n",
              "      <td>-10.433</td>\n",
              "      <td>12.500</td>\n",
              "      <td>-118.847</td>\n",
              "      <td>358.933</td>\n",
              "      <td>1511896.0</td>\n",
              "      <td>2387.0</td>\n",
              "      <td>1511896.0</td>\n",
              "      <td>2387.0</td>\n",
              "      <td>0</td>\n",
              "      <td>5067.0</td>\n",
              "      <td>0</td>\n",
              "    </tr>\n",
              "  </tbody>\n",
              "</table>\n",
              "</div>"
            ],
            "text/plain": [
              "  entity_user_device  ... customer_download_throughput_binned\n",
              "0               MDI2  ...                                   0\n",
              "1            CPH1823  ...                                   0\n",
              "2               1606  ...                                   1\n",
              "3            SM-T295  ...                                   0\n",
              "4           M1803E6I  ...                                   0\n",
              "\n",
              "[5 rows x 16 columns]"
            ]
          },
          "metadata": {
            "tags": []
          },
          "execution_count": 25
        }
      ]
    },
    {
      "cell_type": "code",
      "metadata": {
        "colab": {
          "base_uri": "https://localhost:8080/",
          "height": 545
        },
        "id": "N0FgEQ1uC5I8",
        "outputId": "81690992-e4d0-49ea-844c-0ce084c5620b"
      },
      "source": [
        "unique_value_count(data)"
      ],
      "execution_count": 26,
      "outputs": [
        {
          "output_type": "execute_result",
          "data": {
            "text/html": [
              "<div>\n",
              "<style scoped>\n",
              "    .dataframe tbody tr th:only-of-type {\n",
              "        vertical-align: middle;\n",
              "    }\n",
              "\n",
              "    .dataframe tbody tr th {\n",
              "        vertical-align: top;\n",
              "    }\n",
              "\n",
              "    .dataframe thead th {\n",
              "        text-align: right;\n",
              "    }\n",
              "</style>\n",
              "<table border=\"1\" class=\"dataframe\">\n",
              "  <thead>\n",
              "    <tr style=\"text-align: right;\">\n",
              "      <th></th>\n",
              "      <th>Column_Name</th>\n",
              "      <th>Num_Unique</th>\n",
              "    </tr>\n",
              "  </thead>\n",
              "  <tbody>\n",
              "    <tr>\n",
              "      <th>15</th>\n",
              "      <td>customer_download_throughput_binned</td>\n",
              "      <td>2</td>\n",
              "    </tr>\n",
              "    <tr>\n",
              "      <th>13</th>\n",
              "      <td>Hour</td>\n",
              "      <td>24</td>\n",
              "    </tr>\n",
              "    <tr>\n",
              "      <th>1</th>\n",
              "      <td>application_group</td>\n",
              "      <td>36</td>\n",
              "    </tr>\n",
              "    <tr>\n",
              "      <th>2</th>\n",
              "      <td>application_name</td>\n",
              "      <td>469</td>\n",
              "    </tr>\n",
              "    <tr>\n",
              "      <th>0</th>\n",
              "      <td>entity_user_device</td>\n",
              "      <td>2360</td>\n",
              "    </tr>\n",
              "    <tr>\n",
              "      <th>3</th>\n",
              "      <td>quantity_lsr_cqi</td>\n",
              "      <td>8683</td>\n",
              "    </tr>\n",
              "    <tr>\n",
              "      <th>5</th>\n",
              "      <td>quantity_lsr_rsrq</td>\n",
              "      <td>8870</td>\n",
              "    </tr>\n",
              "    <tr>\n",
              "      <th>7</th>\n",
              "      <td>quantity_lsr_uplink_interference</td>\n",
              "      <td>14834</td>\n",
              "    </tr>\n",
              "    <tr>\n",
              "      <th>14</th>\n",
              "      <td>cell_download_throughput</td>\n",
              "      <td>17324</td>\n",
              "    </tr>\n",
              "    <tr>\n",
              "      <th>6</th>\n",
              "      <td>quantity_lsr_pusch_sinr</td>\n",
              "      <td>22559</td>\n",
              "    </tr>\n",
              "    <tr>\n",
              "      <th>4</th>\n",
              "      <td>quantity_lsr_rsrp</td>\n",
              "      <td>26636</td>\n",
              "    </tr>\n",
              "    <tr>\n",
              "      <th>8</th>\n",
              "      <td>quantity_lsr_ta</td>\n",
              "      <td>211650</td>\n",
              "    </tr>\n",
              "    <tr>\n",
              "      <th>12</th>\n",
              "      <td>quantity_probes_hsi_data_download_duration_mil...</td>\n",
              "      <td>258848</td>\n",
              "    </tr>\n",
              "    <tr>\n",
              "      <th>10</th>\n",
              "      <td>quantity_cell_probes_hsi_data_download_duratio...</td>\n",
              "      <td>606600</td>\n",
              "    </tr>\n",
              "    <tr>\n",
              "      <th>11</th>\n",
              "      <td>quantity_probes_hsi_data_download_bytes</td>\n",
              "      <td>1437621</td>\n",
              "    </tr>\n",
              "    <tr>\n",
              "      <th>9</th>\n",
              "      <td>quantity_cell_probes_hsi_data_download_bytes</td>\n",
              "      <td>1476645</td>\n",
              "    </tr>\n",
              "  </tbody>\n",
              "</table>\n",
              "</div>"
            ],
            "text/plain": [
              "                                          Column_Name  Num_Unique\n",
              "15                customer_download_throughput_binned           2\n",
              "13                                               Hour          24\n",
              "1                                   application_group          36\n",
              "2                                    application_name         469\n",
              "0                                  entity_user_device        2360\n",
              "3                                    quantity_lsr_cqi        8683\n",
              "5                                   quantity_lsr_rsrq        8870\n",
              "7                    quantity_lsr_uplink_interference       14834\n",
              "14                           cell_download_throughput       17324\n",
              "6                             quantity_lsr_pusch_sinr       22559\n",
              "4                                   quantity_lsr_rsrp       26636\n",
              "8                                     quantity_lsr_ta      211650\n",
              "12  quantity_probes_hsi_data_download_duration_mil...      258848\n",
              "10  quantity_cell_probes_hsi_data_download_duratio...      606600\n",
              "11            quantity_probes_hsi_data_download_bytes     1437621\n",
              "9        quantity_cell_probes_hsi_data_download_bytes     1476645"
            ]
          },
          "metadata": {
            "tags": []
          },
          "execution_count": 26
        }
      ]
    },
    {
      "cell_type": "code",
      "metadata": {
        "id": "9xTBwt5W-GfX"
      },
      "source": [
        "data = convert_dtype(data,2360)"
      ],
      "execution_count": 27,
      "outputs": []
    },
    {
      "cell_type": "code",
      "metadata": {
        "id": "J9NlDrERwK-8"
      },
      "source": [
        "# data_category = display_bar_categorical(data)"
      ],
      "execution_count": 28,
      "outputs": []
    },
    {
      "cell_type": "code",
      "metadata": {
        "id": "OLlpYAS1oL6f"
      },
      "source": [
        "data, categorical_cols = label_encoding(data)"
      ],
      "execution_count": 29,
      "outputs": []
    },
    {
      "cell_type": "code",
      "metadata": {
        "colab": {
          "base_uri": "https://localhost:8080/",
          "height": 224
        },
        "id": "_eReSk7HCKYk",
        "outputId": "ff087e93-0b15-455e-b8f5-a847968b1737"
      },
      "source": [
        "data.head()"
      ],
      "execution_count": 30,
      "outputs": [
        {
          "output_type": "execute_result",
          "data": {
            "text/html": [
              "<div>\n",
              "<style scoped>\n",
              "    .dataframe tbody tr th:only-of-type {\n",
              "        vertical-align: middle;\n",
              "    }\n",
              "\n",
              "    .dataframe tbody tr th {\n",
              "        vertical-align: top;\n",
              "    }\n",
              "\n",
              "    .dataframe thead th {\n",
              "        text-align: right;\n",
              "    }\n",
              "</style>\n",
              "<table border=\"1\" class=\"dataframe\">\n",
              "  <thead>\n",
              "    <tr style=\"text-align: right;\">\n",
              "      <th></th>\n",
              "      <th>entity_user_device</th>\n",
              "      <th>application_group</th>\n",
              "      <th>application_name</th>\n",
              "      <th>quantity_lsr_cqi</th>\n",
              "      <th>quantity_lsr_rsrp</th>\n",
              "      <th>quantity_lsr_rsrq</th>\n",
              "      <th>quantity_lsr_pusch_sinr</th>\n",
              "      <th>quantity_lsr_uplink_interference</th>\n",
              "      <th>quantity_lsr_ta</th>\n",
              "      <th>quantity_cell_probes_hsi_data_download_bytes</th>\n",
              "      <th>quantity_cell_probes_hsi_data_download_duration_millisecs</th>\n",
              "      <th>quantity_probes_hsi_data_download_bytes</th>\n",
              "      <th>quantity_probes_hsi_data_download_duration_millisecs</th>\n",
              "      <th>Hour</th>\n",
              "      <th>cell_download_throughput</th>\n",
              "      <th>customer_download_throughput_binned</th>\n",
              "    </tr>\n",
              "  </thead>\n",
              "  <tbody>\n",
              "    <tr>\n",
              "      <th>0</th>\n",
              "      <td>1288</td>\n",
              "      <td>34</td>\n",
              "      <td>400</td>\n",
              "      <td>7.0</td>\n",
              "      <td>-85.000</td>\n",
              "      <td>-17.333</td>\n",
              "      <td>20.15</td>\n",
              "      <td>-116.885</td>\n",
              "      <td>115.333</td>\n",
              "      <td>5476583.0</td>\n",
              "      <td>14442.0</td>\n",
              "      <td>5476583.0</td>\n",
              "      <td>14442.0</td>\n",
              "      <td>0</td>\n",
              "      <td>3034.0</td>\n",
              "      <td>0</td>\n",
              "    </tr>\n",
              "    <tr>\n",
              "      <th>1</th>\n",
              "      <td>493</td>\n",
              "      <td>30</td>\n",
              "      <td>328</td>\n",
              "      <td>11.0</td>\n",
              "      <td>-98.000</td>\n",
              "      <td>-11.000</td>\n",
              "      <td>15.30</td>\n",
              "      <td>-116.070</td>\n",
              "      <td>312.000</td>\n",
              "      <td>8170401.0</td>\n",
              "      <td>24199.0</td>\n",
              "      <td>8170401.0</td>\n",
              "      <td>24199.0</td>\n",
              "      <td>0</td>\n",
              "      <td>2701.0</td>\n",
              "      <td>0</td>\n",
              "    </tr>\n",
              "    <tr>\n",
              "      <th>2</th>\n",
              "      <td>9</td>\n",
              "      <td>34</td>\n",
              "      <td>141</td>\n",
              "      <td>7.0</td>\n",
              "      <td>-106.000</td>\n",
              "      <td>-17.500</td>\n",
              "      <td>0.70</td>\n",
              "      <td>-113.550</td>\n",
              "      <td>234.000</td>\n",
              "      <td>67453891.0</td>\n",
              "      <td>253889.0</td>\n",
              "      <td>3601553.0</td>\n",
              "      <td>80525.0</td>\n",
              "      <td>0</td>\n",
              "      <td>2125.0</td>\n",
              "      <td>1</td>\n",
              "    </tr>\n",
              "    <tr>\n",
              "      <th>3</th>\n",
              "      <td>1913</td>\n",
              "      <td>28</td>\n",
              "      <td>206</td>\n",
              "      <td>8.6</td>\n",
              "      <td>-99.000</td>\n",
              "      <td>-12.700</td>\n",
              "      <td>14.10</td>\n",
              "      <td>-116.660</td>\n",
              "      <td>217.000</td>\n",
              "      <td>3616392.0</td>\n",
              "      <td>25739.0</td>\n",
              "      <td>3616392.0</td>\n",
              "      <td>25739.0</td>\n",
              "      <td>0</td>\n",
              "      <td>1124.0</td>\n",
              "      <td>0</td>\n",
              "    </tr>\n",
              "    <tr>\n",
              "      <th>4</th>\n",
              "      <td>1150</td>\n",
              "      <td>28</td>\n",
              "      <td>346</td>\n",
              "      <td>10.6</td>\n",
              "      <td>-108.067</td>\n",
              "      <td>-10.433</td>\n",
              "      <td>12.50</td>\n",
              "      <td>-118.847</td>\n",
              "      <td>358.933</td>\n",
              "      <td>1511896.0</td>\n",
              "      <td>2387.0</td>\n",
              "      <td>1511896.0</td>\n",
              "      <td>2387.0</td>\n",
              "      <td>0</td>\n",
              "      <td>5067.0</td>\n",
              "      <td>0</td>\n",
              "    </tr>\n",
              "  </tbody>\n",
              "</table>\n",
              "</div>"
            ],
            "text/plain": [
              "   entity_user_device  ...  customer_download_throughput_binned\n",
              "0                1288  ...                                    0\n",
              "1                 493  ...                                    0\n",
              "2                   9  ...                                    1\n",
              "3                1913  ...                                    0\n",
              "4                1150  ...                                    0\n",
              "\n",
              "[5 rows x 16 columns]"
            ]
          },
          "metadata": {
            "tags": []
          },
          "execution_count": 30
        }
      ]
    },
    {
      "cell_type": "code",
      "metadata": {
        "colab": {
          "base_uri": "https://localhost:8080/"
        },
        "id": "3ACubT_hRbWR",
        "outputId": "10b42eb0-a93a-42e4-bf87-b320ea99ee3d"
      },
      "source": [
        "data.info()"
      ],
      "execution_count": 31,
      "outputs": [
        {
          "output_type": "stream",
          "text": [
            "<class 'pandas.core.frame.DataFrame'>\n",
            "RangeIndex: 1551791 entries, 0 to 1551790\n",
            "Data columns (total 16 columns):\n",
            " #   Column                                                     Non-Null Count    Dtype  \n",
            "---  ------                                                     --------------    -----  \n",
            " 0   entity_user_device                                         1551791 non-null  int64  \n",
            " 1   application_group                                          1551791 non-null  int64  \n",
            " 2   application_name                                           1551791 non-null  int64  \n",
            " 3   quantity_lsr_cqi                                           1551791 non-null  float64\n",
            " 4   quantity_lsr_rsrp                                          1551791 non-null  float64\n",
            " 5   quantity_lsr_rsrq                                          1551791 non-null  float64\n",
            " 6   quantity_lsr_pusch_sinr                                    1551791 non-null  float64\n",
            " 7   quantity_lsr_uplink_interference                           1551791 non-null  float64\n",
            " 8   quantity_lsr_ta                                            1551791 non-null  float64\n",
            " 9   quantity_cell_probes_hsi_data_download_bytes               1551791 non-null  float64\n",
            " 10  quantity_cell_probes_hsi_data_download_duration_millisecs  1551791 non-null  float64\n",
            " 11  quantity_probes_hsi_data_download_bytes                    1551791 non-null  float64\n",
            " 12  quantity_probes_hsi_data_download_duration_millisecs       1551791 non-null  float64\n",
            " 13  Hour                                                       1551791 non-null  int64  \n",
            " 14  cell_download_throughput                                   1551791 non-null  float64\n",
            " 15  customer_download_throughput_binned                        1551791 non-null  int64  \n",
            "dtypes: float64(11), int64(5)\n",
            "memory usage: 189.4 MB\n"
          ],
          "name": "stdout"
        }
      ]
    },
    {
      "cell_type": "code",
      "metadata": {
        "id": "-vxLGiXjE5vg"
      },
      "source": [
        "data = scaler_float(data)"
      ],
      "execution_count": 32,
      "outputs": []
    },
    {
      "cell_type": "code",
      "metadata": {
        "id": "nQozCLQVJJLO"
      },
      "source": [
        ""
      ],
      "execution_count": 32,
      "outputs": []
    },
    {
      "cell_type": "code",
      "metadata": {
        "colab": {
          "base_uri": "https://localhost:8080/"
        },
        "id": "b5eOM8MmoPcn",
        "outputId": "43b00b48-6a6a-48e7-9d8a-1ff1031c9e23"
      },
      "source": [
        "data = pd.DataFrame(data)"
      ],
      "execution_count": 33,
      "outputs": [
        {
          "output_type": "stream",
          "text": [
            "/usr/local/lib/python3.7/dist-packages/pandas/core/internals/construction.py:305: VisibleDeprecationWarning:\n",
            "\n",
            "Creating an ndarray from ragged nested sequences (which is a list-or-tuple of lists-or-tuples-or ndarrays with different lengths or shapes) is deprecated. If you meant to do this, you must specify 'dtype=object' when creating the ndarray\n",
            "\n"
          ],
          "name": "stderr"
        }
      ]
    },
    {
      "cell_type": "code",
      "metadata": {
        "colab": {
          "base_uri": "https://localhost:8080/",
          "height": 111
        },
        "id": "MC6JgiMmKI0A",
        "outputId": "d87b404a-4693-437a-d679-f1a3b8c4eb4f"
      },
      "source": [
        "data.head()"
      ],
      "execution_count": 34,
      "outputs": [
        {
          "output_type": "execute_result",
          "data": {
            "text/html": [
              "<div>\n",
              "<style scoped>\n",
              "    .dataframe tbody tr th:only-of-type {\n",
              "        vertical-align: middle;\n",
              "    }\n",
              "\n",
              "    .dataframe tbody tr th {\n",
              "        vertical-align: top;\n",
              "    }\n",
              "\n",
              "    .dataframe thead th {\n",
              "        text-align: right;\n",
              "    }\n",
              "</style>\n",
              "<table border=\"1\" class=\"dataframe\">\n",
              "  <thead>\n",
              "    <tr style=\"text-align: right;\">\n",
              "      <th></th>\n",
              "      <th>0</th>\n",
              "    </tr>\n",
              "  </thead>\n",
              "  <tbody>\n",
              "    <tr>\n",
              "      <th>0</th>\n",
              "      <td>entity_user_device  ...  customer_dow...</td>\n",
              "    </tr>\n",
              "    <tr>\n",
              "      <th>1</th>\n",
              "      <td>[entity_user_device, application_group, applic...</td>\n",
              "    </tr>\n",
              "  </tbody>\n",
              "</table>\n",
              "</div>"
            ],
            "text/plain": [
              "                                                   0\n",
              "0           entity_user_device  ...  customer_dow...\n",
              "1  [entity_user_device, application_group, applic..."
            ]
          },
          "metadata": {
            "tags": []
          },
          "execution_count": 34
        }
      ]
    },
    {
      "cell_type": "code",
      "metadata": {
        "colab": {
          "base_uri": "https://localhost:8080/",
          "height": 341
        },
        "id": "7OotxIrSu9W4",
        "outputId": "b2ceef87-22a6-4796-af60-a285a5f6d7a6"
      },
      "source": [
        "columns = data.columns\n",
        "for i in range(len(columns)):\n",
        "    fig = px.histogram(data, x=data[columns[i]], histnorm='probability density')\n",
        "    fig.show()"
      ],
      "execution_count": 35,
      "outputs": [
        {
          "output_type": "error",
          "ename": "TypeError",
          "evalue": "ignored",
          "traceback": [
            "\u001b[0;31m---------------------------------------------------------------------------\u001b[0m",
            "\u001b[0;31mTypeError\u001b[0m                                 Traceback (most recent call last)",
            "\u001b[0;32m<ipython-input-35-3988f1e49da9>\u001b[0m in \u001b[0;36m<module>\u001b[0;34m()\u001b[0m\n\u001b[1;32m      2\u001b[0m \u001b[0;32mfor\u001b[0m \u001b[0mi\u001b[0m \u001b[0;32min\u001b[0m \u001b[0mrange\u001b[0m\u001b[0;34m(\u001b[0m\u001b[0mlen\u001b[0m\u001b[0;34m(\u001b[0m\u001b[0mcolumns\u001b[0m\u001b[0;34m)\u001b[0m\u001b[0;34m)\u001b[0m\u001b[0;34m:\u001b[0m\u001b[0;34m\u001b[0m\u001b[0;34m\u001b[0m\u001b[0m\n\u001b[1;32m      3\u001b[0m     \u001b[0mfig\u001b[0m \u001b[0;34m=\u001b[0m \u001b[0mpx\u001b[0m\u001b[0;34m.\u001b[0m\u001b[0mhistogram\u001b[0m\u001b[0;34m(\u001b[0m\u001b[0mdata\u001b[0m\u001b[0;34m,\u001b[0m \u001b[0mx\u001b[0m\u001b[0;34m=\u001b[0m\u001b[0mdata\u001b[0m\u001b[0;34m[\u001b[0m\u001b[0mcolumns\u001b[0m\u001b[0;34m[\u001b[0m\u001b[0mi\u001b[0m\u001b[0;34m]\u001b[0m\u001b[0;34m]\u001b[0m\u001b[0;34m,\u001b[0m \u001b[0mhistnorm\u001b[0m\u001b[0;34m=\u001b[0m\u001b[0;34m'probability density'\u001b[0m\u001b[0;34m)\u001b[0m\u001b[0;34m\u001b[0m\u001b[0;34m\u001b[0m\u001b[0m\n\u001b[0;32m----> 4\u001b[0;31m     \u001b[0mfig\u001b[0m\u001b[0;34m.\u001b[0m\u001b[0mshow\u001b[0m\u001b[0;34m(\u001b[0m\u001b[0;34m)\u001b[0m\u001b[0;34m\u001b[0m\u001b[0;34m\u001b[0m\u001b[0m\n\u001b[0m",
            "\u001b[0;32m/usr/local/lib/python3.7/dist-packages/plotly/basedatatypes.py\u001b[0m in \u001b[0;36mshow\u001b[0;34m(self, *args, **kwargs)\u001b[0m\n\u001b[1;32m   2792\u001b[0m         \u001b[0;32mimport\u001b[0m \u001b[0mplotly\u001b[0m\u001b[0;34m.\u001b[0m\u001b[0mio\u001b[0m \u001b[0;32mas\u001b[0m \u001b[0mpio\u001b[0m\u001b[0;34m\u001b[0m\u001b[0;34m\u001b[0m\u001b[0m\n\u001b[1;32m   2793\u001b[0m \u001b[0;34m\u001b[0m\u001b[0m\n\u001b[0;32m-> 2794\u001b[0;31m         \u001b[0;32mreturn\u001b[0m \u001b[0mpio\u001b[0m\u001b[0;34m.\u001b[0m\u001b[0mshow\u001b[0m\u001b[0;34m(\u001b[0m\u001b[0mself\u001b[0m\u001b[0;34m,\u001b[0m \u001b[0;34m*\u001b[0m\u001b[0margs\u001b[0m\u001b[0;34m,\u001b[0m \u001b[0;34m**\u001b[0m\u001b[0mkwargs\u001b[0m\u001b[0;34m)\u001b[0m\u001b[0;34m\u001b[0m\u001b[0;34m\u001b[0m\u001b[0m\n\u001b[0m\u001b[1;32m   2795\u001b[0m \u001b[0;34m\u001b[0m\u001b[0m\n\u001b[1;32m   2796\u001b[0m     \u001b[0;32mdef\u001b[0m \u001b[0mto_json\u001b[0m\u001b[0;34m(\u001b[0m\u001b[0mself\u001b[0m\u001b[0;34m,\u001b[0m \u001b[0;34m*\u001b[0m\u001b[0margs\u001b[0m\u001b[0;34m,\u001b[0m \u001b[0;34m**\u001b[0m\u001b[0mkwargs\u001b[0m\u001b[0;34m)\u001b[0m\u001b[0;34m:\u001b[0m\u001b[0;34m\u001b[0m\u001b[0;34m\u001b[0m\u001b[0m\n",
            "\u001b[0;32m/usr/local/lib/python3.7/dist-packages/plotly/io/_renderers.py\u001b[0m in \u001b[0;36mshow\u001b[0;34m(fig, renderer, validate, **kwargs)\u001b[0m\n\u001b[1;32m    374\u001b[0m \u001b[0;34m\u001b[0m\u001b[0m\n\u001b[1;32m    375\u001b[0m     \u001b[0;31m# Mimetype renderers\u001b[0m\u001b[0;34m\u001b[0m\u001b[0;34m\u001b[0m\u001b[0;34m\u001b[0m\u001b[0m\n\u001b[0;32m--> 376\u001b[0;31m     \u001b[0mbundle\u001b[0m \u001b[0;34m=\u001b[0m \u001b[0mrenderers\u001b[0m\u001b[0;34m.\u001b[0m\u001b[0m_build_mime_bundle\u001b[0m\u001b[0;34m(\u001b[0m\u001b[0mfig_dict\u001b[0m\u001b[0;34m,\u001b[0m \u001b[0mrenderers_string\u001b[0m\u001b[0;34m=\u001b[0m\u001b[0mrenderer\u001b[0m\u001b[0;34m,\u001b[0m \u001b[0;34m**\u001b[0m\u001b[0mkwargs\u001b[0m\u001b[0;34m)\u001b[0m\u001b[0;34m\u001b[0m\u001b[0;34m\u001b[0m\u001b[0m\n\u001b[0m\u001b[1;32m    377\u001b[0m     \u001b[0;32mif\u001b[0m \u001b[0mbundle\u001b[0m\u001b[0;34m:\u001b[0m\u001b[0;34m\u001b[0m\u001b[0;34m\u001b[0m\u001b[0m\n\u001b[1;32m    378\u001b[0m         \u001b[0;32mif\u001b[0m \u001b[0;32mnot\u001b[0m \u001b[0mipython_display\u001b[0m\u001b[0;34m:\u001b[0m\u001b[0;34m\u001b[0m\u001b[0;34m\u001b[0m\u001b[0m\n",
            "\u001b[0;32m/usr/local/lib/python3.7/dist-packages/plotly/io/_renderers.py\u001b[0m in \u001b[0;36m_build_mime_bundle\u001b[0;34m(self, fig_dict, renderers_string, **kwargs)\u001b[0m\n\u001b[1;32m    294\u001b[0m                         \u001b[0msetattr\u001b[0m\u001b[0;34m(\u001b[0m\u001b[0mrenderer\u001b[0m\u001b[0;34m,\u001b[0m \u001b[0mk\u001b[0m\u001b[0;34m,\u001b[0m \u001b[0mv\u001b[0m\u001b[0;34m)\u001b[0m\u001b[0;34m\u001b[0m\u001b[0;34m\u001b[0m\u001b[0m\n\u001b[1;32m    295\u001b[0m \u001b[0;34m\u001b[0m\u001b[0m\n\u001b[0;32m--> 296\u001b[0;31m                 \u001b[0mbundle\u001b[0m\u001b[0;34m.\u001b[0m\u001b[0mupdate\u001b[0m\u001b[0;34m(\u001b[0m\u001b[0mrenderer\u001b[0m\u001b[0;34m.\u001b[0m\u001b[0mto_mimebundle\u001b[0m\u001b[0;34m(\u001b[0m\u001b[0mfig_dict\u001b[0m\u001b[0;34m)\u001b[0m\u001b[0;34m)\u001b[0m\u001b[0;34m\u001b[0m\u001b[0;34m\u001b[0m\u001b[0m\n\u001b[0m\u001b[1;32m    297\u001b[0m \u001b[0;34m\u001b[0m\u001b[0m\n\u001b[1;32m    298\u001b[0m         \u001b[0;32mreturn\u001b[0m \u001b[0mbundle\u001b[0m\u001b[0;34m\u001b[0m\u001b[0;34m\u001b[0m\u001b[0m\n",
            "\u001b[0;32m/usr/local/lib/python3.7/dist-packages/plotly/io/_base_renderers.py\u001b[0m in \u001b[0;36mto_mimebundle\u001b[0;34m(self, fig_dict)\u001b[0m\n\u001b[1;32m    383\u001b[0m             \u001b[0mdefault_width\u001b[0m\u001b[0;34m=\u001b[0m\u001b[0;34m\"100%\"\u001b[0m\u001b[0;34m,\u001b[0m\u001b[0;34m\u001b[0m\u001b[0;34m\u001b[0m\u001b[0m\n\u001b[1;32m    384\u001b[0m             \u001b[0mdefault_height\u001b[0m\u001b[0;34m=\u001b[0m\u001b[0;36m525\u001b[0m\u001b[0;34m,\u001b[0m\u001b[0;34m\u001b[0m\u001b[0;34m\u001b[0m\u001b[0m\n\u001b[0;32m--> 385\u001b[0;31m             \u001b[0mvalidate\u001b[0m\u001b[0;34m=\u001b[0m\u001b[0;32mFalse\u001b[0m\u001b[0;34m,\u001b[0m\u001b[0;34m\u001b[0m\u001b[0;34m\u001b[0m\u001b[0m\n\u001b[0m\u001b[1;32m    386\u001b[0m         )\n\u001b[1;32m    387\u001b[0m \u001b[0;34m\u001b[0m\u001b[0m\n",
            "\u001b[0;32m/usr/local/lib/python3.7/dist-packages/plotly/io/_html.py\u001b[0m in \u001b[0;36mto_html\u001b[0;34m(fig, config, auto_play, include_plotlyjs, include_mathjax, post_script, full_html, animation_opts, default_width, default_height, validate)\u001b[0m\n\u001b[1;32m    136\u001b[0m     \u001b[0;31m# ## Serialize figure ##\u001b[0m\u001b[0;34m\u001b[0m\u001b[0;34m\u001b[0m\u001b[0;34m\u001b[0m\u001b[0m\n\u001b[1;32m    137\u001b[0m     jdata = json.dumps(\n\u001b[0;32m--> 138\u001b[0;31m         \u001b[0mfig_dict\u001b[0m\u001b[0;34m.\u001b[0m\u001b[0mget\u001b[0m\u001b[0;34m(\u001b[0m\u001b[0;34m\"data\"\u001b[0m\u001b[0;34m,\u001b[0m \u001b[0;34m[\u001b[0m\u001b[0;34m]\u001b[0m\u001b[0;34m)\u001b[0m\u001b[0;34m,\u001b[0m \u001b[0mcls\u001b[0m\u001b[0;34m=\u001b[0m\u001b[0mutils\u001b[0m\u001b[0;34m.\u001b[0m\u001b[0mPlotlyJSONEncoder\u001b[0m\u001b[0;34m,\u001b[0m \u001b[0msort_keys\u001b[0m\u001b[0;34m=\u001b[0m\u001b[0;32mTrue\u001b[0m\u001b[0;34m\u001b[0m\u001b[0;34m\u001b[0m\u001b[0m\n\u001b[0m\u001b[1;32m    139\u001b[0m     )\n\u001b[1;32m    140\u001b[0m     jlayout = json.dumps(\n",
            "\u001b[0;32m/usr/lib/python3.7/json/__init__.py\u001b[0m in \u001b[0;36mdumps\u001b[0;34m(obj, skipkeys, ensure_ascii, check_circular, allow_nan, cls, indent, separators, default, sort_keys, **kw)\u001b[0m\n\u001b[1;32m    236\u001b[0m         \u001b[0mcheck_circular\u001b[0m\u001b[0;34m=\u001b[0m\u001b[0mcheck_circular\u001b[0m\u001b[0;34m,\u001b[0m \u001b[0mallow_nan\u001b[0m\u001b[0;34m=\u001b[0m\u001b[0mallow_nan\u001b[0m\u001b[0;34m,\u001b[0m \u001b[0mindent\u001b[0m\u001b[0;34m=\u001b[0m\u001b[0mindent\u001b[0m\u001b[0;34m,\u001b[0m\u001b[0;34m\u001b[0m\u001b[0;34m\u001b[0m\u001b[0m\n\u001b[1;32m    237\u001b[0m         \u001b[0mseparators\u001b[0m\u001b[0;34m=\u001b[0m\u001b[0mseparators\u001b[0m\u001b[0;34m,\u001b[0m \u001b[0mdefault\u001b[0m\u001b[0;34m=\u001b[0m\u001b[0mdefault\u001b[0m\u001b[0;34m,\u001b[0m \u001b[0msort_keys\u001b[0m\u001b[0;34m=\u001b[0m\u001b[0msort_keys\u001b[0m\u001b[0;34m,\u001b[0m\u001b[0;34m\u001b[0m\u001b[0;34m\u001b[0m\u001b[0m\n\u001b[0;32m--> 238\u001b[0;31m         **kw).encode(obj)\n\u001b[0m\u001b[1;32m    239\u001b[0m \u001b[0;34m\u001b[0m\u001b[0m\n\u001b[1;32m    240\u001b[0m \u001b[0;34m\u001b[0m\u001b[0m\n",
            "\u001b[0;32m/usr/local/lib/python3.7/dist-packages/_plotly_utils/utils.py\u001b[0m in \u001b[0;36mencode\u001b[0;34m(self, o)\u001b[0m\n\u001b[1;32m     43\u001b[0m \u001b[0;34m\u001b[0m\u001b[0m\n\u001b[1;32m     44\u001b[0m         \u001b[0;31m# this will raise errors in a normal-expected way\u001b[0m\u001b[0;34m\u001b[0m\u001b[0;34m\u001b[0m\u001b[0;34m\u001b[0m\u001b[0m\n\u001b[0;32m---> 45\u001b[0;31m         \u001b[0mencoded_o\u001b[0m \u001b[0;34m=\u001b[0m \u001b[0msuper\u001b[0m\u001b[0;34m(\u001b[0m\u001b[0mPlotlyJSONEncoder\u001b[0m\u001b[0;34m,\u001b[0m \u001b[0mself\u001b[0m\u001b[0;34m)\u001b[0m\u001b[0;34m.\u001b[0m\u001b[0mencode\u001b[0m\u001b[0;34m(\u001b[0m\u001b[0mo\u001b[0m\u001b[0;34m)\u001b[0m\u001b[0;34m\u001b[0m\u001b[0;34m\u001b[0m\u001b[0m\n\u001b[0m\u001b[1;32m     46\u001b[0m \u001b[0;34m\u001b[0m\u001b[0m\n\u001b[1;32m     47\u001b[0m         \u001b[0;31m# now:\u001b[0m\u001b[0;34m\u001b[0m\u001b[0;34m\u001b[0m\u001b[0;34m\u001b[0m\u001b[0m\n",
            "\u001b[0;32m/usr/lib/python3.7/json/encoder.py\u001b[0m in \u001b[0;36mencode\u001b[0;34m(self, o)\u001b[0m\n\u001b[1;32m    197\u001b[0m         \u001b[0;31m# exceptions aren't as detailed.  The list call should be roughly\u001b[0m\u001b[0;34m\u001b[0m\u001b[0;34m\u001b[0m\u001b[0;34m\u001b[0m\u001b[0m\n\u001b[1;32m    198\u001b[0m         \u001b[0;31m# equivalent to the PySequence_Fast that ''.join() would do.\u001b[0m\u001b[0;34m\u001b[0m\u001b[0;34m\u001b[0m\u001b[0;34m\u001b[0m\u001b[0m\n\u001b[0;32m--> 199\u001b[0;31m         \u001b[0mchunks\u001b[0m \u001b[0;34m=\u001b[0m \u001b[0mself\u001b[0m\u001b[0;34m.\u001b[0m\u001b[0miterencode\u001b[0m\u001b[0;34m(\u001b[0m\u001b[0mo\u001b[0m\u001b[0;34m,\u001b[0m \u001b[0m_one_shot\u001b[0m\u001b[0;34m=\u001b[0m\u001b[0;32mTrue\u001b[0m\u001b[0;34m)\u001b[0m\u001b[0;34m\u001b[0m\u001b[0;34m\u001b[0m\u001b[0m\n\u001b[0m\u001b[1;32m    200\u001b[0m         \u001b[0;32mif\u001b[0m \u001b[0;32mnot\u001b[0m \u001b[0misinstance\u001b[0m\u001b[0;34m(\u001b[0m\u001b[0mchunks\u001b[0m\u001b[0;34m,\u001b[0m \u001b[0;34m(\u001b[0m\u001b[0mlist\u001b[0m\u001b[0;34m,\u001b[0m \u001b[0mtuple\u001b[0m\u001b[0;34m)\u001b[0m\u001b[0;34m)\u001b[0m\u001b[0;34m:\u001b[0m\u001b[0;34m\u001b[0m\u001b[0;34m\u001b[0m\u001b[0m\n\u001b[1;32m    201\u001b[0m             \u001b[0mchunks\u001b[0m \u001b[0;34m=\u001b[0m \u001b[0mlist\u001b[0m\u001b[0;34m(\u001b[0m\u001b[0mchunks\u001b[0m\u001b[0;34m)\u001b[0m\u001b[0;34m\u001b[0m\u001b[0;34m\u001b[0m\u001b[0m\n",
            "\u001b[0;32m/usr/lib/python3.7/json/encoder.py\u001b[0m in \u001b[0;36miterencode\u001b[0;34m(self, o, _one_shot)\u001b[0m\n\u001b[1;32m    255\u001b[0m                 \u001b[0mself\u001b[0m\u001b[0;34m.\u001b[0m\u001b[0mkey_separator\u001b[0m\u001b[0;34m,\u001b[0m \u001b[0mself\u001b[0m\u001b[0;34m.\u001b[0m\u001b[0mitem_separator\u001b[0m\u001b[0;34m,\u001b[0m \u001b[0mself\u001b[0m\u001b[0;34m.\u001b[0m\u001b[0msort_keys\u001b[0m\u001b[0;34m,\u001b[0m\u001b[0;34m\u001b[0m\u001b[0;34m\u001b[0m\u001b[0m\n\u001b[1;32m    256\u001b[0m                 self.skipkeys, _one_shot)\n\u001b[0;32m--> 257\u001b[0;31m         \u001b[0;32mreturn\u001b[0m \u001b[0m_iterencode\u001b[0m\u001b[0;34m(\u001b[0m\u001b[0mo\u001b[0m\u001b[0;34m,\u001b[0m \u001b[0;36m0\u001b[0m\u001b[0;34m)\u001b[0m\u001b[0;34m\u001b[0m\u001b[0;34m\u001b[0m\u001b[0m\n\u001b[0m\u001b[1;32m    258\u001b[0m \u001b[0;34m\u001b[0m\u001b[0m\n\u001b[1;32m    259\u001b[0m def _make_iterencode(markers, _default, _encoder, _indent, _floatstr,\n",
            "\u001b[0;32m/usr/local/lib/python3.7/dist-packages/_plotly_utils/utils.py\u001b[0m in \u001b[0;36mdefault\u001b[0;34m(self, obj)\u001b[0m\n\u001b[1;32m    113\u001b[0m             \u001b[0;32mexcept\u001b[0m \u001b[0mNotEncodable\u001b[0m\u001b[0;34m:\u001b[0m\u001b[0;34m\u001b[0m\u001b[0;34m\u001b[0m\u001b[0m\n\u001b[1;32m    114\u001b[0m                 \u001b[0;32mpass\u001b[0m\u001b[0;34m\u001b[0m\u001b[0;34m\u001b[0m\u001b[0m\n\u001b[0;32m--> 115\u001b[0;31m         \u001b[0;32mreturn\u001b[0m \u001b[0m_json\u001b[0m\u001b[0;34m.\u001b[0m\u001b[0mJSONEncoder\u001b[0m\u001b[0;34m.\u001b[0m\u001b[0mdefault\u001b[0m\u001b[0;34m(\u001b[0m\u001b[0mself\u001b[0m\u001b[0;34m,\u001b[0m \u001b[0mobj\u001b[0m\u001b[0;34m)\u001b[0m\u001b[0;34m\u001b[0m\u001b[0;34m\u001b[0m\u001b[0m\n\u001b[0m\u001b[1;32m    116\u001b[0m \u001b[0;34m\u001b[0m\u001b[0m\n\u001b[1;32m    117\u001b[0m     \u001b[0;34m@\u001b[0m\u001b[0mstaticmethod\u001b[0m\u001b[0;34m\u001b[0m\u001b[0;34m\u001b[0m\u001b[0m\n",
            "\u001b[0;32m/usr/lib/python3.7/json/encoder.py\u001b[0m in \u001b[0;36mdefault\u001b[0;34m(self, o)\u001b[0m\n\u001b[1;32m    177\u001b[0m \u001b[0;34m\u001b[0m\u001b[0m\n\u001b[1;32m    178\u001b[0m         \"\"\"\n\u001b[0;32m--> 179\u001b[0;31m         raise TypeError(f'Object of type {o.__class__.__name__} '\n\u001b[0m\u001b[1;32m    180\u001b[0m                         f'is not JSON serializable')\n\u001b[1;32m    181\u001b[0m \u001b[0;34m\u001b[0m\u001b[0m\n",
            "\u001b[0;31mTypeError\u001b[0m: Object of type DataFrame is not JSON serializable"
          ]
        }
      ]
    },
    {
      "cell_type": "markdown",
      "metadata": {
        "id": "wBFFHLtldWTD"
      },
      "source": [
        "Similarly for Time Sense Data, and numerical only.<br> Time Series Plots\n",
        "\n",
        "Univariate- With Labels<br>"
      ]
    }
  ]
}