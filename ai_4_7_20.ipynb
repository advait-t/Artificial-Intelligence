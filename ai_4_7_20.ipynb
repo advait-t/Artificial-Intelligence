{
  "nbformat": 4,
  "nbformat_minor": 0,
  "metadata": {
    "colab": {
      "name": "Untitled4.ipynb",
      "provenance": [],
      "authorship_tag": "ABX9TyOTzXz7Q4W+Q4N1ye1WkE/B",
      "include_colab_link": true
    },
    "kernelspec": {
      "name": "python3",
      "display_name": "Python 3"
    }
  },
  "cells": [
    {
      "cell_type": "markdown",
      "metadata": {
        "id": "view-in-github",
        "colab_type": "text"
      },
      "source": [
        "<a href=\"https://colab.research.google.com/github/advait-t/Artificial-Intelligence/blob/master/ai_4_7_20.ipynb\" target=\"_parent\"><img src=\"https://colab.research.google.com/assets/colab-badge.svg\" alt=\"Open In Colab\"/></a>"
      ]
    },
    {
      "cell_type": "code",
      "metadata": {
        "id": "SEyVwFqbJ1o2",
        "colab_type": "code",
        "colab": {}
      },
      "source": [
        "#list\n",
        "a = [1,2,3,4,5,\"humman\"]"
      ],
      "execution_count": 1,
      "outputs": []
    },
    {
      "cell_type": "code",
      "metadata": {
        "id": "2aRWyzkrJ_s8",
        "colab_type": "code",
        "colab": {}
      },
      "source": [
        "#tuple\n",
        "a = (1,2,3,4,5,\"human\")"
      ],
      "execution_count": 2,
      "outputs": []
    },
    {
      "cell_type": "code",
      "metadata": {
        "id": "63Au3WfEKEMY",
        "colab_type": "code",
        "colab": {
          "base_uri": "https://localhost:8080/",
          "height": 34
        },
        "outputId": "9a9ac500-aa9f-4eff-c21b-939dcae9e0dd"
      },
      "source": [
        "#set\n",
        "a = {1,2,3,4,5,\"human\"}\n",
        "print(a)"
      ],
      "execution_count": 5,
      "outputs": [
        {
          "output_type": "stream",
          "text": [
            "{1, 2, 4, 5, 'human'}\n"
          ],
          "name": "stdout"
        }
      ]
    },
    {
      "cell_type": "code",
      "metadata": {
        "id": "2RiQoJrtKKBa",
        "colab_type": "code",
        "colab": {
          "base_uri": "https://localhost:8080/",
          "height": 34
        },
        "outputId": "b08d5811-21c3-4635-a3e0-5b13b34114f0"
      },
      "source": [
        "#dictionary\n",
        "a = {'list':[1,2,3,4,5,'human'],'tuple':(1,2,3,4,5,'human'), 'set':{1,2,3,4,5,'human'}}\n",
        "type(a)"
      ],
      "execution_count": 4,
      "outputs": [
        {
          "output_type": "execute_result",
          "data": {
            "text/plain": [
              "dict"
            ]
          },
          "metadata": {
            "tags": []
          },
          "execution_count": 4
        }
      ]
    },
    {
      "cell_type": "code",
      "metadata": {
        "id": "LpCL78SLKazs",
        "colab_type": "code",
        "colab": {}
      },
      "source": [
        ""
      ],
      "execution_count": null,
      "outputs": []
    }
  ]
}