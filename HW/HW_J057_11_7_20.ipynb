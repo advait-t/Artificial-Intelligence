{
  "nbformat": 4,
  "nbformat_minor": 0,
  "metadata": {
    "kernelspec": {
      "display_name": "Python 3",
      "language": "python",
      "name": "python3"
    },
    "language_info": {
      "codemirror_mode": {
        "name": "ipython",
        "version": 3
      },
      "file_extension": ".py",
      "mimetype": "text/x-python",
      "name": "python",
      "nbconvert_exporter": "python",
      "pygments_lexer": "ipython3",
      "version": "3.7.4"
    },
    "colab": {
      "name": "HW_J057_11_7_20.ipynb",
      "provenance": [],
      "include_colab_link": true
    }
  },
  "cells": [
    {
      "cell_type": "markdown",
      "metadata": {
        "id": "view-in-github",
        "colab_type": "text"
      },
      "source": [
        "<a href=\"https://colab.research.google.com/github/advait-t/Artificial-Intelligence/blob/master/HW/HW_J057_11_7_20.ipynb\" target=\"_parent\"><img src=\"https://colab.research.google.com/assets/colab-badge.svg\" alt=\"Open In Colab\"/></a>"
      ]
    },
    {
      "cell_type": "markdown",
      "metadata": {
        "id": "6ZMThyJGZfci",
        "colab_type": "text"
      },
      "source": [
        "# HW_J057_11_7_20"
      ]
    },
    {
      "cell_type": "markdown",
      "metadata": {
        "id": "61fSRiV_Zfck",
        "colab_type": "text"
      },
      "source": [
        "## Importing the Packages"
      ]
    },
    {
      "cell_type": "code",
      "metadata": {
        "id": "wzyBy_JxZfcl",
        "colab_type": "code",
        "colab": {}
      },
      "source": [
        "import pandas as pd\n",
        "import numpy as np\n",
        "import seaborn as sns\n",
        "import matplotlib.pyplot as plt"
      ],
      "execution_count": null,
      "outputs": []
    },
    {
      "cell_type": "markdown",
      "metadata": {
        "id": "kFgC1b2LZfcr",
        "colab_type": "text"
      },
      "source": [
        "# Questions:\n",
        "### 1: Create a custom class DataRead to read csv file using pandas.\n",
        "### 2: Create a custom function RowSelect within the class to select any 2 rows of the the the dataframe.\n",
        "### 3: Create a sub class of DataRead1 as  DataRead2  that has function for correlation plots (using any lib for                correlation plot).\n",
        "### 4: Within DataRead2 also create a function to override the custom function of DataRead1 RowSelect to select 3 rows."
      ]
    },
    {
      "cell_type": "code",
      "metadata": {
        "id": "JuylIGBgZfcr",
        "colab_type": "code",
        "colab": {}
      },
      "source": [
        "class DataRead():\n",
        "    def __init__(self,fname):\n",
        "        self.data = pd.read_csv(fname)\n",
        "        \n",
        "    def RowSelect(self,x,y):\n",
        "        print(self.data.iloc[[x-1,y-1]])\n",
        "        #print(self.data.iloc[[y-1]])\n",
        "        \n",
        "        \n",
        "class DataRead2(DataRead):\n",
        "    def CorrelationPlot(self):\n",
        "        data1 = self.data\n",
        "        correlation_plot = data1.corr()\n",
        "        sns.heatmap(correlation_plot, annot = True)\n",
        "        plt.show()\n",
        "    \n",
        "    def RowSelect(self,x,y,z):\n",
        "        print(self.data.iloc[[x-1,y-1,z-1]])\n",
        "        #print(self.data.iloc[y-1])\n",
        "        #print(self.data.iloc[z-1])"
      ],
      "execution_count": null,
      "outputs": []
    },
    {
      "cell_type": "markdown",
      "metadata": {
        "id": "N5o8RPD-Zfcu",
        "colab_type": "text"
      },
      "source": [
        "## Trying the Functions:"
      ]
    },
    {
      "cell_type": "markdown",
      "metadata": {
        "id": "36IlcM4LZfcv",
        "colab_type": "text"
      },
      "source": [
        "### Reading the Dataset"
      ]
    },
    {
      "cell_type": "code",
      "metadata": {
        "id": "ctI-pfBpZfcv",
        "colab_type": "code",
        "colab": {},
        "outputId": "8bf5bfec-2032-4e35-d83c-4fe9be83ed14"
      },
      "source": [
        "file2 = DataRead2(\"/Volumes/USB-1 1/HP BACKUP/Notes & Questions/Semester 4/Statistical Methods/ipldata/matches.csv\")\n",
        "file2.data.head()"
      ],
      "execution_count": null,
      "outputs": [
        {
          "output_type": "execute_result",
          "data": {
            "text/html": [
              "<div>\n",
              "<style scoped>\n",
              "    .dataframe tbody tr th:only-of-type {\n",
              "        vertical-align: middle;\n",
              "    }\n",
              "\n",
              "    .dataframe tbody tr th {\n",
              "        vertical-align: top;\n",
              "    }\n",
              "\n",
              "    .dataframe thead th {\n",
              "        text-align: right;\n",
              "    }\n",
              "</style>\n",
              "<table border=\"1\" class=\"dataframe\">\n",
              "  <thead>\n",
              "    <tr style=\"text-align: right;\">\n",
              "      <th></th>\n",
              "      <th>id</th>\n",
              "      <th>season</th>\n",
              "      <th>city</th>\n",
              "      <th>date</th>\n",
              "      <th>team1</th>\n",
              "      <th>team2</th>\n",
              "      <th>toss_winner</th>\n",
              "      <th>toss_decision</th>\n",
              "      <th>result</th>\n",
              "      <th>dl_applied</th>\n",
              "      <th>winner</th>\n",
              "      <th>win_by_runs</th>\n",
              "      <th>win_by_wickets</th>\n",
              "      <th>player_of_match</th>\n",
              "      <th>venue</th>\n",
              "      <th>umpire1</th>\n",
              "      <th>umpire2</th>\n",
              "      <th>umpire3</th>\n",
              "    </tr>\n",
              "  </thead>\n",
              "  <tbody>\n",
              "    <tr>\n",
              "      <td>0</td>\n",
              "      <td>1</td>\n",
              "      <td>2017</td>\n",
              "      <td>Hyderabad</td>\n",
              "      <td>2017-04-05</td>\n",
              "      <td>Sunrisers Hyderabad</td>\n",
              "      <td>Royal Challengers Bangalore</td>\n",
              "      <td>Royal Challengers Bangalore</td>\n",
              "      <td>field</td>\n",
              "      <td>normal</td>\n",
              "      <td>0</td>\n",
              "      <td>Sunrisers Hyderabad</td>\n",
              "      <td>35</td>\n",
              "      <td>0</td>\n",
              "      <td>Yuvraj Singh</td>\n",
              "      <td>Rajiv Gandhi International Stadium, Uppal</td>\n",
              "      <td>AY Dandekar</td>\n",
              "      <td>NJ Llong</td>\n",
              "      <td>NaN</td>\n",
              "    </tr>\n",
              "    <tr>\n",
              "      <td>1</td>\n",
              "      <td>2</td>\n",
              "      <td>2017</td>\n",
              "      <td>Pune</td>\n",
              "      <td>2017-04-06</td>\n",
              "      <td>Mumbai Indians</td>\n",
              "      <td>Rising Pune Supergiant</td>\n",
              "      <td>Rising Pune Supergiant</td>\n",
              "      <td>field</td>\n",
              "      <td>normal</td>\n",
              "      <td>0</td>\n",
              "      <td>Rising Pune Supergiant</td>\n",
              "      <td>0</td>\n",
              "      <td>7</td>\n",
              "      <td>SPD Smith</td>\n",
              "      <td>Maharashtra Cricket Association Stadium</td>\n",
              "      <td>A Nand Kishore</td>\n",
              "      <td>S Ravi</td>\n",
              "      <td>NaN</td>\n",
              "    </tr>\n",
              "    <tr>\n",
              "      <td>2</td>\n",
              "      <td>3</td>\n",
              "      <td>2017</td>\n",
              "      <td>Rajkot</td>\n",
              "      <td>2017-04-07</td>\n",
              "      <td>Gujarat Lions</td>\n",
              "      <td>Kolkata Knight Riders</td>\n",
              "      <td>Kolkata Knight Riders</td>\n",
              "      <td>field</td>\n",
              "      <td>normal</td>\n",
              "      <td>0</td>\n",
              "      <td>Kolkata Knight Riders</td>\n",
              "      <td>0</td>\n",
              "      <td>10</td>\n",
              "      <td>CA Lynn</td>\n",
              "      <td>Saurashtra Cricket Association Stadium</td>\n",
              "      <td>Nitin Menon</td>\n",
              "      <td>CK Nandan</td>\n",
              "      <td>NaN</td>\n",
              "    </tr>\n",
              "    <tr>\n",
              "      <td>3</td>\n",
              "      <td>4</td>\n",
              "      <td>2017</td>\n",
              "      <td>Indore</td>\n",
              "      <td>2017-04-08</td>\n",
              "      <td>Rising Pune Supergiant</td>\n",
              "      <td>Kings XI Punjab</td>\n",
              "      <td>Kings XI Punjab</td>\n",
              "      <td>field</td>\n",
              "      <td>normal</td>\n",
              "      <td>0</td>\n",
              "      <td>Kings XI Punjab</td>\n",
              "      <td>0</td>\n",
              "      <td>6</td>\n",
              "      <td>GJ Maxwell</td>\n",
              "      <td>Holkar Cricket Stadium</td>\n",
              "      <td>AK Chaudhary</td>\n",
              "      <td>C Shamshuddin</td>\n",
              "      <td>NaN</td>\n",
              "    </tr>\n",
              "    <tr>\n",
              "      <td>4</td>\n",
              "      <td>5</td>\n",
              "      <td>2017</td>\n",
              "      <td>Bangalore</td>\n",
              "      <td>2017-04-08</td>\n",
              "      <td>Royal Challengers Bangalore</td>\n",
              "      <td>Delhi Daredevils</td>\n",
              "      <td>Royal Challengers Bangalore</td>\n",
              "      <td>bat</td>\n",
              "      <td>normal</td>\n",
              "      <td>0</td>\n",
              "      <td>Royal Challengers Bangalore</td>\n",
              "      <td>15</td>\n",
              "      <td>0</td>\n",
              "      <td>KM Jadhav</td>\n",
              "      <td>M Chinnaswamy Stadium</td>\n",
              "      <td>NaN</td>\n",
              "      <td>NaN</td>\n",
              "      <td>NaN</td>\n",
              "    </tr>\n",
              "  </tbody>\n",
              "</table>\n",
              "</div>"
            ],
            "text/plain": [
              "   id  season       city        date                        team1  \\\n",
              "0   1    2017  Hyderabad  2017-04-05          Sunrisers Hyderabad   \n",
              "1   2    2017       Pune  2017-04-06               Mumbai Indians   \n",
              "2   3    2017     Rajkot  2017-04-07                Gujarat Lions   \n",
              "3   4    2017     Indore  2017-04-08       Rising Pune Supergiant   \n",
              "4   5    2017  Bangalore  2017-04-08  Royal Challengers Bangalore   \n",
              "\n",
              "                         team2                  toss_winner toss_decision  \\\n",
              "0  Royal Challengers Bangalore  Royal Challengers Bangalore         field   \n",
              "1       Rising Pune Supergiant       Rising Pune Supergiant         field   \n",
              "2        Kolkata Knight Riders        Kolkata Knight Riders         field   \n",
              "3              Kings XI Punjab              Kings XI Punjab         field   \n",
              "4             Delhi Daredevils  Royal Challengers Bangalore           bat   \n",
              "\n",
              "   result  dl_applied                       winner  win_by_runs  \\\n",
              "0  normal           0          Sunrisers Hyderabad           35   \n",
              "1  normal           0       Rising Pune Supergiant            0   \n",
              "2  normal           0        Kolkata Knight Riders            0   \n",
              "3  normal           0              Kings XI Punjab            0   \n",
              "4  normal           0  Royal Challengers Bangalore           15   \n",
              "\n",
              "   win_by_wickets player_of_match                                      venue  \\\n",
              "0               0    Yuvraj Singh  Rajiv Gandhi International Stadium, Uppal   \n",
              "1               7       SPD Smith    Maharashtra Cricket Association Stadium   \n",
              "2              10         CA Lynn     Saurashtra Cricket Association Stadium   \n",
              "3               6      GJ Maxwell                     Holkar Cricket Stadium   \n",
              "4               0       KM Jadhav                      M Chinnaswamy Stadium   \n",
              "\n",
              "          umpire1        umpire2 umpire3  \n",
              "0     AY Dandekar       NJ Llong     NaN  \n",
              "1  A Nand Kishore         S Ravi     NaN  \n",
              "2     Nitin Menon      CK Nandan     NaN  \n",
              "3    AK Chaudhary  C Shamshuddin     NaN  \n",
              "4             NaN            NaN     NaN  "
            ]
          },
          "metadata": {
            "tags": []
          },
          "execution_count": 64
        }
      ]
    },
    {
      "cell_type": "markdown",
      "metadata": {
        "id": "zrAxCOz5Zfcz",
        "colab_type": "text"
      },
      "source": [
        "### Printing the Correlation Matrix"
      ]
    },
    {
      "cell_type": "code",
      "metadata": {
        "id": "wsH251VDZfcz",
        "colab_type": "code",
        "colab": {},
        "outputId": "753712f1-7805-4bea-9307-52ee73db5dec"
      },
      "source": [
        "file1.CorrelationPlot()"
      ],
      "execution_count": null,
      "outputs": [
        {
          "output_type": "display_data",
          "data": {
            "image/png": "[encoded data removed]",
            "text/plain": [
              "<Figure size 432x288 with 2 Axes>"
            ]
          },
          "metadata": {
            "tags": [],
            "needs_background": "light"
          }
        }
      ]
    },
    {
      "cell_type": "markdown",
      "metadata": {
        "id": "hdpxN-SBZfc2",
        "colab_type": "text"
      },
      "source": [
        "### Printing 2 Rows"
      ]
    },
    {
      "cell_type": "code",
      "metadata": {
        "id": "QEd57ysTZfc2",
        "colab_type": "code",
        "colab": {},
        "outputId": "ec4a4b8a-8a7c-4595-aa16-ffdd6b2eff48"
      },
      "source": [
        "file1 = DataRead(\"/Volumes/USB-1 1/HP BACKUP/Notes & Questions/Semester 4/Statistical Methods/ipldata/matches.csv\")\n",
        "file1.RowSelect(1,2)"
      ],
      "execution_count": null,
      "outputs": [
        {
          "output_type": "stream",
          "text": [
            "   id  season       city        date                team1  \\\n",
            "0   1    2017  Hyderabad  2017-04-05  Sunrisers Hyderabad   \n",
            "1   2    2017       Pune  2017-04-06       Mumbai Indians   \n",
            "\n",
            "                         team2                  toss_winner toss_decision  \\\n",
            "0  Royal Challengers Bangalore  Royal Challengers Bangalore         field   \n",
            "1       Rising Pune Supergiant       Rising Pune Supergiant         field   \n",
            "\n",
            "   result  dl_applied                  winner  win_by_runs  win_by_wickets  \\\n",
            "0  normal           0     Sunrisers Hyderabad           35               0   \n",
            "1  normal           0  Rising Pune Supergiant            0               7   \n",
            "\n",
            "  player_of_match                                      venue         umpire1  \\\n",
            "0    Yuvraj Singh  Rajiv Gandhi International Stadium, Uppal     AY Dandekar   \n",
            "1       SPD Smith    Maharashtra Cricket Association Stadium  A Nand Kishore   \n",
            "\n",
            "    umpire2 umpire3  \n",
            "0  NJ Llong     NaN  \n",
            "1    S Ravi     NaN  \n"
          ],
          "name": "stdout"
        }
      ]
    },
    {
      "cell_type": "markdown",
      "metadata": {
        "id": "EPlvmXi-Zfc5",
        "colab_type": "text"
      },
      "source": [
        "### Printing 3 Rows"
      ]
    },
    {
      "cell_type": "code",
      "metadata": {
        "id": "xL0qg8uwZfc6",
        "colab_type": "code",
        "colab": {},
        "outputId": "2d17c0d7-901b-4cba-8d9d-3fed6155c387"
      },
      "source": [
        "file2.RowSelect(1,2,3)"
      ],
      "execution_count": null,
      "outputs": [
        {
          "output_type": "stream",
          "text": [
            "   id  season       city        date                team1  \\\n",
            "0   1    2017  Hyderabad  2017-04-05  Sunrisers Hyderabad   \n",
            "1   2    2017       Pune  2017-04-06       Mumbai Indians   \n",
            "2   3    2017     Rajkot  2017-04-07        Gujarat Lions   \n",
            "\n",
            "                         team2                  toss_winner toss_decision  \\\n",
            "0  Royal Challengers Bangalore  Royal Challengers Bangalore         field   \n",
            "1       Rising Pune Supergiant       Rising Pune Supergiant         field   \n",
            "2        Kolkata Knight Riders        Kolkata Knight Riders         field   \n",
            "\n",
            "   result  dl_applied                  winner  win_by_runs  win_by_wickets  \\\n",
            "0  normal           0     Sunrisers Hyderabad           35               0   \n",
            "1  normal           0  Rising Pune Supergiant            0               7   \n",
            "2  normal           0   Kolkata Knight Riders            0              10   \n",
            "\n",
            "  player_of_match                                      venue         umpire1  \\\n",
            "0    Yuvraj Singh  Rajiv Gandhi International Stadium, Uppal     AY Dandekar   \n",
            "1       SPD Smith    Maharashtra Cricket Association Stadium  A Nand Kishore   \n",
            "2         CA Lynn     Saurashtra Cricket Association Stadium     Nitin Menon   \n",
            "\n",
            "     umpire2 umpire3  \n",
            "0   NJ Llong     NaN  \n",
            "1     S Ravi     NaN  \n",
            "2  CK Nandan     NaN  \n"
          ],
          "name": "stdout"
        }
      ]
    },
    {
      "cell_type": "markdown",
      "metadata": {
        "id": "z6e67NZwZfc-",
        "colab_type": "text"
      },
      "source": [
        "## For any user defined file"
      ]
    },
    {
      "cell_type": "markdown",
      "metadata": {
        "id": "rYOE7NCuZfc-",
        "colab_type": "text"
      },
      "source": [
        "filepath = input(\"Enter the file path\\n\")\n",
        "option = int(input (\"Enter 1: Correlation Plot \\nEnter 2: Display Rows\\n\"))\n",
        "if (option == 1):\n",
        "    df = DataRead2(filepath)\n",
        "    df.CorrelationPlot()\n",
        "elif (option == 2):\n",
        "    x = int(input(\"Enter Line:\\n\"))\n",
        "    y = int(input(\"Enter Line:\\n\"))\n",
        "    z = int(input(\"Enter Line:\\n\"))\n",
        "    df = DataRead2(filepath)\n",
        "    df.RowSelect(x,y,z)\n",
        "else:\n",
        "    print(\"Incorrect Option\")"
      ]
    }
  ]
}