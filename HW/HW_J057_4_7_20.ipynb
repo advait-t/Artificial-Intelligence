{
  "nbformat": 4,
  "nbformat_minor": 0,
  "metadata": {
    "colab": {
      "name": "Untitled5.ipynb",
      "provenance": [],
      "authorship_tag": "ABX9TyNKt5pveYsOPsCcT6Dgph6L",
      "include_colab_link": true
    },
    "kernelspec": {
      "name": "python3",
      "display_name": "Python 3"
    }
  },
  "cells": [
    {
      "cell_type": "markdown",
      "metadata": {
        "id": "view-in-github",
        "colab_type": "text"
      },
      "source": [
        "<a href=\"https://colab.research.google.com/github/advait-t/Artificial-Intelligence/blob/master/HW/HW_J057_4_7_20.ipynb\" target=\"_parent\"><img src=\"https://colab.research.google.com/assets/colab-badge.svg\" alt=\"Open In Colab\"/></a>"
      ]
    },
    {
      "cell_type": "code",
      "metadata": {
        "id": "TxpXtnCJiH9o",
        "colab_type": "code",
        "colab": {
          "base_uri": "https://localhost:8080/",
          "height": 51
        },
        "outputId": "d4578641-6615-4ce6-976e-11a4cc8556d1"
      },
      "source": [
        "#question 1\n",
        "#!/bin/python3\n",
        "\n",
        "import math\n",
        "import os\n",
        "import random\n",
        "import re\n",
        "import sys\n",
        "\n",
        "\n",
        "if __name__ == '__main__':\n",
        "    n = int(input().strip())\n",
        "if(n>=1 and n<=100):\n",
        "    if (n%2!=0):\n",
        "        print(\"Weird\")\n",
        "    elif (n%2==0 and n>=2 and n<=5):\n",
        "        print(\"Not Weird\")\n",
        "    elif (n%2==0 and n>=6 and n<=20):\n",
        "        print(\"Weird\")\n",
        "    elif(n%2==0 and n>20):\n",
        "        print(\"Not Weird\")"
      ],
      "execution_count": 1,
      "outputs": [
        {
          "output_type": "stream",
          "text": [
            "3\n",
            "Weird\n"
          ],
          "name": "stdout"
        }
      ]
    },
    {
      "cell_type": "code",
      "metadata": {
        "id": "dHJyxqMtixeJ",
        "colab_type": "code",
        "colab": {
          "base_uri": "https://localhost:8080/",
          "height": 102
        },
        "outputId": "2b58320f-b19a-420c-e51d-c5c8ec2009dd"
      },
      "source": [
        "#question 2\n",
        "if __name__ == '__main__':\n",
        "    a = int(input())\n",
        "    b = int(input())\n",
        "    if(a>=1 and a<=10**10 and b>=1 and b<=10**10):\n",
        "        print((a+b))\n",
        "        print((a-b))\n",
        "        print((a*b))"
      ],
      "execution_count": 2,
      "outputs": [
        {
          "output_type": "stream",
          "text": [
            "1\n",
            "2\n",
            "3\n",
            "-1\n",
            "2\n"
          ],
          "name": "stdout"
        }
      ]
    },
    {
      "cell_type": "code",
      "metadata": {
        "id": "8svFZ2p8i-Xw",
        "colab_type": "code",
        "colab": {}
      },
      "source": [
        "#question 3\n",
        "if __name__ == '__main__':\n",
        "    a = int(input())\n",
        "    b = int(input())\n",
        "    print((a//b))\n",
        "    print((a/b))"
      ],
      "execution_count": null,
      "outputs": []
    },
    {
      "cell_type": "code",
      "metadata": {
        "id": "_tZBwqhqjZkj",
        "colab_type": "code",
        "colab": {}
      },
      "source": [
        "#question 4\n",
        "if __name__ == '__main__':\n",
        "    n = int(input())\n",
        "    if(n>=1 and n<=20):\n",
        "        for i in range (0,n):\n",
        "            print((i**2))"
      ],
      "execution_count": null,
      "outputs": []
    },
    {
      "cell_type": "code",
      "metadata": {
        "id": "VlKiUzMojvaV",
        "colab_type": "code",
        "colab": {}
      },
      "source": [
        "#question 5\n",
        "if __name__ == '__main__':\n",
        "    n = int(input())\n",
        "    for i in range(1,n+1):\n",
        "        print(i,end =\"\")"
      ],
      "execution_count": null,
      "outputs": []
    },
    {
      "cell_type": "code",
      "metadata": {
        "id": "ycjeeYNnkGQI",
        "colab_type": "code",
        "colab": {}
      },
      "source": [
        "#question 6\n",
        "if __name__ == '__main__':\n",
        "    x = int(input())\n",
        "    y = int(input())\n",
        "    z = int(input())\n",
        "    n = int(input())\n",
        "    list = []\n",
        "    #ans=[[i,j,k] for i in range(x+1) for j in range(y+1) for k in range(z+1) if i+j+k!=n]\n",
        "    #print(ans)\n",
        "    for i in range(x+1):\n",
        "        for j in range(y+1):\n",
        "            for k in range (z+1):\n",
        "                if(i+j+k !=n):\n",
        "                    arr = [i,j,k]\n",
        "                    list.append(arr)\n",
        "print(list)"
      ],
      "execution_count": null,
      "outputs": []
    }
  ]
}