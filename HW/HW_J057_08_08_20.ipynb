{
  "nbformat": 4,
  "nbformat_minor": 0,
  "metadata": {
    "colab": {
      "name": "HW_J057_08_08_20.ipynb",
      "provenance": [],
      "authorship_tag": "ABX9TyMMjxNqkm4lITazqHOHx+yh",
      "include_colab_link": true
    },
    "kernelspec": {
      "name": "python3",
      "display_name": "Python 3"
    }
  },
  "cells": [
    {
      "cell_type": "markdown",
      "metadata": {
        "id": "view-in-github",
        "colab_type": "text"
      },
      "source": [
        "<a href=\"https://colab.research.google.com/github/advait-t/Artificial-Intelligence/blob/master/HW/HW_J057_08_08_20.ipynb\" target=\"_parent\"><img src=\"https://colab.research.google.com/assets/colab-badge.svg\" alt=\"Open In Colab\"/></a>"
      ]
    },
    {
      "cell_type": "markdown",
      "metadata": {
        "id": "fUnhiAI7q3B5",
        "colab_type": "text"
      },
      "source": [
        "# Advait J057\n"
      ]
    },
    {
      "cell_type": "code",
      "metadata": {
        "id": "Nok2imKrDSw7",
        "colab_type": "code",
        "colab": {
          "base_uri": "https://localhost:8080/",
          "height": 136
        },
        "outputId": "02d154d6-0bfc-4a61-fa40-e576c633c30a"
      },
      "source": [
        "import sys\n",
        "import heapq\n",
        "def knapsack_solver(N,M,S,V,E) :\n",
        "    T = tuple(set() for _ in range(N))\n",
        "    for u,v in E :\n",
        "        T[u].add(v)\n",
        "        T[v].add(u)\n",
        "    Total, order, maxValue = sum(V), sorted(range(n), reverse=True, key=(lambda i : V[i]/S[i])), 0\n",
        "        \n",
        "    def maximum(visited, connected, rejected, size, value, rejectedValue, maxValue) :\n",
        "        if value > maxValue :\n",
        "            maxValue = value\n",
        "        if not connected :\n",
        "            return maxValue\n",
        "        i = best(connected)\n",
        "        if size + S[i] <= M :\n",
        "            maxValue = maximum(visited|{i}, (connected-{i}) | (T[i]-rejected-visited), rejected, size+S[i], value+V[i], rejectedValue, maxValue)\n",
        "        if Total - (rejectedValue + V[i]) > maxValue :\n",
        "            maxValue = maximum(visited|{i}, connected-{i}, rejected | {i}, size, value, rejectedValue + V[i], maxValue)\n",
        "        return maxValue\n",
        "\n",
        "    def best(connected) :\n",
        "        for i in order :\n",
        "            if i in connected :\n",
        "                return i\n",
        "    for s in order :\n",
        "        maxValue = maximum(set(),{s},set(),0,0,0,maxValue)\n",
        "\n",
        "    return maxValue\n",
        "\n",
        "T = int(input())\n",
        "for _ in range(T) :\n",
        "    n,m = (int(_) for _ in input().split())\n",
        "    s = tuple(int(_) for _ in input().split())\n",
        "    v = tuple(int(_) for _ in input().split())\n",
        "    e = tuple((int(_)-1 for _ in input().split()) for _ in range(n-1))\n",
        "    print(\"output\",knapsack_solver(n,m,s,v,e))\n",
        "\n"
      ],
      "execution_count": 2,
      "outputs": [
        {
          "output_type": "stream",
          "text": [
            "1\n",
            "3 1\n",
            "1 1 1\n",
            "1 2 3\n",
            "1 2\n",
            "1 3\n",
            "output 3\n"
          ],
          "name": "stdout"
        }
      ]
    },
    {
      "cell_type": "code",
      "metadata": {
        "id": "V167q5RRSt4H",
        "colab_type": "code",
        "colab": {
          "base_uri": "https://localhost:8080/",
          "height": 170
        },
        "outputId": "097decad-935e-40a3-f644-4ca1dc0709a4"
      },
      "source": [
        "import sys\n",
        "import heapq\n",
        "def knapsack_solver(N,M,S,V,E) :\n",
        "    T = tuple(set() for _ in range(N))\n",
        "    for u,v in E :\n",
        "        T[u].add(v)\n",
        "        T[v].add(u)\n",
        "    Total, order, maxValue = sum(V), sorted(range(n), reverse=True, key=(lambda i : V[i]/S[i])), 0\n",
        "        \n",
        "    def maximum(visited, connected, rejected, size, value, rejectedValue, maxValue) :\n",
        "        if value > maxValue :\n",
        "            maxValue = value\n",
        "        if not connected :\n",
        "            return maxValue\n",
        "        i = best(connected)\n",
        "        if size + S[i] <= M :\n",
        "            maxValue = maximum(visited|{i}, (connected-{i}) | (T[i]-rejected-visited), rejected, size+S[i], value+V[i], rejectedValue, maxValue)\n",
        "        if Total - (rejectedValue + V[i]) > maxValue :\n",
        "            maxValue = maximum(visited|{i}, connected-{i}, rejected | {i}, size, value, rejectedValue + V[i], maxValue)\n",
        "        return maxValue\n",
        "\n",
        "    def best(connected) :\n",
        "        for i in order :\n",
        "            if i in connected :\n",
        "                return i\n",
        "    for s in order :\n",
        "        maxValue = maximum(set(),{s},set(),0,0,0,maxValue)\n",
        "\n",
        "    return maxValue\n",
        "\n",
        "T = int(input())\n",
        "for _ in range(T) :\n",
        "    n,m = (int(_) for _ in input().split())\n",
        "    s = tuple(int(_) for _ in input().split())\n",
        "    v = tuple(int(_) for _ in input().split())\n",
        "    e = tuple((int(_)-1 for _ in input().split()) for _ in range(n-1))\n",
        "    print(\"output\",knapsack_solver(n,m,s,v,e))\n",
        "\n"
      ],
      "execution_count": 5,
      "outputs": [
        {
          "output_type": "stream",
          "text": [
            "1\n",
            "5 3\n",
            "1 1 1 1 1\n",
            "3 5 2 2 3\n",
            "1 2\n",
            "1 3\n",
            "2 4 \n",
            "2 5\n",
            "output 11\n"
          ],
          "name": "stdout"
        }
      ]
    },
    {
      "cell_type": "code",
      "metadata": {
        "id": "ilhR7XDUoDsh",
        "colab_type": "code",
        "colab": {
          "base_uri": "https://localhost:8080/",
          "height": 238
        },
        "outputId": "7eeb477a-03fe-4bef-843b-405313138405"
      },
      "source": [
        "import sys\n",
        "import heapq\n",
        "def knapsack_solver(N,M,S,V,E) :\n",
        "    T = tuple(set() for _ in range(N))\n",
        "    for u,v in E :\n",
        "        T[u].add(v)\n",
        "        T[v].add(u)\n",
        "    Total, order, maxValue = sum(V), sorted(range(n), reverse=True, key=(lambda i : V[i]/S[i])), 0\n",
        "        \n",
        "    def maximum(visited, connected, rejected, size, value, rejectedValue, maxValue) :\n",
        "        if value > maxValue :\n",
        "            maxValue = value\n",
        "        if not connected :\n",
        "            return maxValue\n",
        "        i = best(connected)\n",
        "        if size + S[i] <= M :\n",
        "            maxValue = maximum(visited|{i}, (connected-{i}) | (T[i]-rejected-visited), rejected, size+S[i], value+V[i], rejectedValue, maxValue)\n",
        "        if Total - (rejectedValue + V[i]) > maxValue :\n",
        "            maxValue = maximum(visited|{i}, connected-{i}, rejected | {i}, size, value, rejectedValue + V[i], maxValue)\n",
        "        return maxValue\n",
        "\n",
        "    def best(connected) :\n",
        "        for i in order :\n",
        "            if i in connected :\n",
        "                return i\n",
        "    for s in order :\n",
        "        maxValue = maximum(set(),{s},set(),0,0,0,maxValue)\n",
        "\n",
        "    return maxValue\n",
        "\n",
        "T = int(input())\n",
        "for _ in range(T) :\n",
        "    n,m = (int(_) for _ in input().split())\n",
        "    s = tuple(int(_) for _ in input().split())\n",
        "    v = tuple(int(_) for _ in input().split())\n",
        "    e = tuple((int(_)-1 for _ in input().split()) for _ in range(n-1))\n",
        "    print(\"output\",knapsack_solver(n,m,s,v,e))\n",
        "\n"
      ],
      "execution_count": 7,
      "outputs": [
        {
          "output_type": "stream",
          "text": [
            "1\n",
            "9 7\n",
            "1 1 3 2 1 1 1 5 5\n",
            "1 0 8 5 1 2 0 9 14\n",
            "1 2\n",
            "2 3\n",
            "2 4\n",
            "3 5\n",
            "3 6\n",
            "4 7\n",
            "4 8\n",
            "7 9\n",
            "output 15\n"
          ],
          "name": "stdout"
        }
      ]
    }
  ]
}