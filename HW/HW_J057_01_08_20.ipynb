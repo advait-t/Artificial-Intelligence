{
  "nbformat": 4,
  "nbformat_minor": 0,
  "metadata": {
    "colab": {
      "name": "HW_J057_01_08_20",
      "provenance": [],
      "authorship_tag": "ABX9TyPRKaQ1YcWD12rc99vU0uxw",
      "include_colab_link": true
    },
    "kernelspec": {
      "name": "python3",
      "display_name": "Python 3"
    }
  },
  "cells": [
    {
      "cell_type": "markdown",
      "metadata": {
        "id": "view-in-github",
        "colab_type": "text"
      },
      "source": [
        "<a href=\"https://colab.research.google.com/github/advait-t/Artificial-Intelligence/blob/master/HW/HW_J057_01_08_20.ipynb\" target=\"_parent\"><img src=\"https://colab.research.google.com/assets/colab-badge.svg\" alt=\"Open In Colab\"/></a>"
      ]
    },
    {
      "cell_type": "markdown",
      "metadata": {
        "id": "4Kszwj25wHpo",
        "colab_type": "text"
      },
      "source": [
        "# Artificial Intelligence\n",
        "## J057 Home Work 1_08_2020"
      ]
    },
    {
      "cell_type": "markdown",
      "metadata": {
        "id": "KP_rWHk8wV4S",
        "colab_type": "text"
      },
      "source": [
        "# Q1: Validating-Postalcode"
      ]
    },
    {
      "cell_type": "code",
      "metadata": {
        "id": "7y9kLjDHwh0r",
        "colab_type": "code",
        "colab": {}
      },
      "source": [
        "regex_integer_in_range = r\"_________\"\t# Do not delete 'r'.\n",
        "regex_alternating_repetitive_digit_pair = r\"_________\"\t# Do not delete 'r'.\n",
        "regex_integer_in_range = r\"^[1-9]\\d{5}$\"\n",
        "regex_alternating_repetitive_digit_pair = r\"(.)(?=.\\1)\""
      ],
      "execution_count": 1,
      "outputs": []
    },
    {
      "cell_type": "markdown",
      "metadata": {
        "id": "KIemJ1eownlx",
        "colab_type": "text"
      },
      "source": [
        "# Q2: Coin-Change"
      ]
    },
    {
      "cell_type": "code",
      "metadata": {
        "id": "WVBsBnFbwlr0",
        "colab_type": "code",
        "colab": {}
      },
      "source": [
        "#!/bin/python3\n",
        "\n",
        "import math\n",
        "import os\n",
        "import random\n",
        "import re\n",
        "import sys\n",
        "\n",
        "#\n",
        "# Complete the 'getWays' function below.\n",
        "#\n",
        "# The function is expected to return a LONG_INTEGER.\n",
        "# The function accepts following parameters:\n",
        "#  1. INTEGER n\n",
        "#  2. LONG_INTEGER_ARRAY c\n",
        "#\n",
        "\n",
        "def getWays(n, c):\n",
        "    # Write your code here\n",
        "    m = len(c)                                                  # assigning the length of c to m\n",
        "    table = [0 for k in range(n+1)]                             # making the variable table in the range of the denomination+1 and assigning index 0 of table as 1\n",
        "    table[0] = 1                                        \n",
        "    for i in range(0,m):                                        # running the nested for loops 1st one being in the range of length of c and the second being in the range of c[i] to the denomination+1\n",
        "        for j in range(c[i],n+1): \n",
        "            table[j] += table[j-c[i]] \n",
        "  \n",
        "    return table[n]                                             # returning the total number of combinations by printing the nth index of table\n",
        "\n",
        "\n",
        "if __name__ == '__main__':\n",
        "    fptr = open(os.environ['OUTPUT_PATH'], 'w')\n",
        "\n",
        "    first_multiple_input = input().rstrip().split()\n",
        "\n",
        "    n = int(first_multiple_input[0])\n",
        "\n",
        "    m = int(first_multiple_input[1])\n",
        "\n",
        "    c = list(map(int, input().rstrip().split()))\n",
        "\n",
        "    # Print the number of ways of making change for 'n' units using coins having the values given by 'c'\n",
        "\n",
        "    ways = getWays(n, c)\n",
        "\n",
        "    fptr.write(str(ways) + '\\n')\n",
        "\n",
        "    fptr.close()"
      ],
      "execution_count": 3,
      "outputs": []
    },
    {
      "cell_type": "markdown",
      "metadata": {
        "id": "nAP-wzjNyghH",
        "colab_type": "text"
      },
      "source": [
        "# Q3: Sherlock-and-Cost"
      ]
    },
    {
      "cell_type": "code",
      "metadata": {
        "id": "Vdt9m8X-yN5M",
        "colab_type": "code",
        "colab": {}
      },
      "source": [
        "#!/bin/python3\n",
        "\n",
        "import math\n",
        "import os\n",
        "import random\n",
        "import re\n",
        "import sys\n",
        "\n",
        "# Complete the cost function below.\n",
        "def cost(B):\n",
        "\n",
        "    high = 0\n",
        "    low = 0 \n",
        "\n",
        "    for i in range(1,n):\n",
        "\n",
        "        hl = abs(B[i-1] - 1)\n",
        "        lh = abs(B[i] - 1)\n",
        "        hh = abs(B[i] - B[i-1])\n",
        "        low1 = max(low, high+hl)\n",
        "        high1 = max(high + hh, low + lh)\n",
        "        high = high1\n",
        "        low = low1 \n",
        "\n",
        "    return (max(low,high))\n",
        "\n",
        "\n",
        "if __name__ == '__main__':\n",
        "    fptr = open(os.environ['OUTPUT_PATH'], 'w')\n",
        "\n",
        "    t = int(input())\n",
        "\n",
        "    for t_itr in range(t):\n",
        "        n = int(input())\n",
        "\n",
        "        B = list(map(int, input().rstrip().split()))\n",
        "\n",
        "        result = cost(B)\n",
        "\n",
        "        fptr.write(str(result) + '\\n')\n",
        "\n",
        "    fptr.close()"
      ],
      "execution_count": 5,
      "outputs": []
    }
  ]
}