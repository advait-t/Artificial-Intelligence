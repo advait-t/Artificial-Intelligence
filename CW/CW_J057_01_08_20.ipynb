{
  "nbformat": 4,
  "nbformat_minor": 0,
  "metadata": {
    "colab": {
      "name": "CW_J057_01_08_20",
      "provenance": [],
      "collapsed_sections": [],
      "authorship_tag": "ABX9TyMf3h/rgjoP5++fuqES3UaL",
      "include_colab_link": true
    },
    "kernelspec": {
      "name": "python3",
      "display_name": "Python 3"
    }
  },
  "cells": [
    {
      "cell_type": "markdown",
      "metadata": {
        "id": "view-in-github",
        "colab_type": "text"
      },
      "source": [
        "<a href=\"https://colab.research.google.com/github/advait-t/Artificial-Intelligence/blob/master/CW/CW_J057_01_08_20.ipynb\" target=\"_parent\"><img src=\"https://colab.research.google.com/assets/colab-badge.svg\" alt=\"Open In Colab\"/></a>"
      ]
    },
    {
      "cell_type": "code",
      "metadata": {
        "id": "LDKFV9-wDyuB",
        "colab_type": "code",
        "colab": {
          "base_uri": "https://localhost:8080/",
          "height": 34
        },
        "outputId": "2626192e-e59c-4fca-a881-e7bfa7305e42"
      },
      "source": [
        "# Calculating Factorial\n",
        "def factorial_recusrsion(n):\n",
        "  factor = 1\n",
        "  if(n==0):\n",
        "      return factor\n",
        "  else:\n",
        "      return (n*factorial_recursion(n-1))\n",
        "\n",
        "\n",
        "def factorial_simple(n):\n",
        "  factor = 1\n",
        "  for i in range(1,n+1):\n",
        "    factor = factor*i\n",
        "  return factor\n",
        "\n",
        "factorial_simple(5)"
      ],
      "execution_count": 13,
      "outputs": [
        {
          "output_type": "execute_result",
          "data": {
            "text/plain": [
              "120"
            ]
          },
          "metadata": {
            "tags": []
          },
          "execution_count": 13
        }
      ]
    },
    {
      "cell_type": "markdown",
      "metadata": {
        "id": "y0ZlcbllElUF",
        "colab_type": "text"
      },
      "source": [
        "# Recursion\n",
        "1+2+3 = 4 \\n\n",
        "1+2 = 3 \\n\n",
        "3+3 = 6 \\n\n",
        "6+4 = 10 \\n\n",
        "\n",
        "# Memoisation\n",
        "Storing intermediate values through through various ways\n",
        "\n"
      ]
    },
    {
      "cell_type": "markdown",
      "metadata": {
        "id": "iDU-PSgCvBzr",
        "colab_type": "text"
      },
      "source": [
        "# Fibonacci"
      ]
    },
    {
      "cell_type": "code",
      "metadata": {
        "id": "Roe378C7Il28",
        "colab_type": "code",
        "colab": {
          "base_uri": "https://localhost:8080/",
          "height": 136
        },
        "outputId": "1c2c6f12-1594-40ee-89f5-d33e8115e3b5"
      },
      "source": [
        "def fibonacci(n):\n",
        "  a = 0\n",
        "  b = 1\n",
        "  if(n == 0):\n",
        "    return a\n",
        "  elif(n == 1):\n",
        "    print(str(a)+\"\\n\"+str(b))\n",
        "  else:\n",
        "    print(str(a)+\"\\n\"+str(b))\n",
        "    for num in range(2,n):\n",
        "      fibb = a+b\n",
        "      print(str(fibb))\n",
        "      a = b\n",
        "      b = fibb\n",
        "fibonacci(7)"
      ],
      "execution_count": 27,
      "outputs": [
        {
          "output_type": "stream",
          "text": [
            "0\n",
            "1\n",
            "1\n",
            "2\n",
            "3\n",
            "5\n",
            "8\n"
          ],
          "name": "stdout"
        }
      ]
    },
    {
      "cell_type": "code",
      "metadata": {
        "id": "bJwChzujJwSX",
        "colab_type": "code",
        "colab": {}
      },
      "source": [
        "# def fibo_simple(n):\n",
        "#   fibo = [0,1]\n",
        "#   #count = 0\n",
        "#   for i in range(2,n):\n",
        "#     fibo[i]= fibo[-2]+fibo[-1]\n",
        "#   return fibo\n",
        "# fibo_simple(5)"
      ],
      "execution_count": 49,
      "outputs": []
    },
    {
      "cell_type": "code",
      "metadata": {
        "id": "UumF3K3jQIdb",
        "colab_type": "code",
        "colab": {}
      },
      "source": [
        "def fibo_1(n):\n",
        "  n1 = n-1\n",
        "  if n == 0 or n == 1:\n",
        "    return n \n",
        "  else :\n",
        "    return fibo_1(n1-1)+fibo_1(n1-2)"
      ],
      "execution_count": 45,
      "outputs": []
    },
    {
      "cell_type": "code",
      "metadata": {
        "id": "84K-7rP1SVQy",
        "colab_type": "code",
        "colab": {
          "base_uri": "https://localhost:8080/",
          "height": 34
        },
        "outputId": "b8dd46b6-a53f-4c44-ddcb-3cf451752151"
      },
      "source": [
        "fibo_1(1)"
      ],
      "execution_count": 50,
      "outputs": [
        {
          "output_type": "execute_result",
          "data": {
            "text/plain": [
              "1"
            ]
          },
          "metadata": {
            "tags": []
          },
          "execution_count": 50
        }
      ]
    },
    {
      "cell_type": "markdown",
      "metadata": {
        "id": "7aYu9Q9cVl-i",
        "colab_type": "text"
      },
      "source": [
        "# Binary Search"
      ]
    },
    {
      "cell_type": "code",
      "metadata": {
        "id": "SOu2sXhlSZuF",
        "colab_type": "code",
        "colab": {}
      },
      "source": [
        "list1 = [5,3,2,1,5,6,7,123,97,65,34,32,344,2245,122,45]\n",
        "list2 = list1.copy().sort()\n",
        "list2"
      ],
      "execution_count": 59,
      "outputs": []
    },
    {
      "cell_type": "code",
      "metadata": {
        "id": "tsI6HVpTWVjD",
        "colab_type": "code",
        "colab": {}
      },
      "source": [
        "# def binary_search_recursive(array, element, start, end):\n",
        "#     if start > end:\n",
        "#         return -1\n",
        "\n",
        "#     mid = (start + end) // 2\n",
        "#     if element == array[mid]:\n",
        "#         return mid\n",
        "\n",
        "#     if element < array[mid]:\n",
        "#         return binary_search_recursive(array, element, start, mid-1)\n",
        "#     else:\n",
        "#         return binary_search_recursive(array, element, mid+1, end)"
      ],
      "execution_count": 61,
      "outputs": []
    },
    {
      "cell_type": "code",
      "metadata": {
        "id": "FNjQjOzrXcQr",
        "colab_type": "code",
        "colab": {}
      },
      "source": [
        "#binary_search_recursive(list2, element = 123,start = 0, end = 15)"
      ],
      "execution_count": 64,
      "outputs": []
    },
    {
      "cell_type": "markdown",
      "metadata": {
        "id": "uAcrPAjmbM6q",
        "colab_type": "text"
      },
      "source": [
        "tractable - PTIME (Polynomial Time Solvable) <br> <br>\n",
        "Polynomial - Expression where each term is n^k where k can be any whole number <br> <br>\n",
        "Degree of the polynomial highest power of the variable within the expression <br> <br>\n",
        "Polynomial Time- Runtime of the code or solution should be a polynomial n: input space or dimension <br> <br>\n",
        "example: 0(n^4) - 3*n^4 + 2*n^2 +1 <br> <br>\n",
        "n = 1 -> 1 <br>\n",
        "n = 2 -> 2^4 <br>\n",
        "n = 3 -> 3^4 <br>\n",
        "n = 4 -> 4^4...... <br>\n",
        "\n",
        "O(n!) <br>\n",
        "n*(n-1)*(n-2)*...1 -> Polynomial of Degree (n-1) - Non Polynomial Time(NP) <br>"
      ]
    },
    {
      "cell_type": "code",
      "metadata": {
        "id": "pvFfJZf4Xuhr",
        "colab_type": "code",
        "colab": {}
      },
      "source": [
        "list2 = list1.copy().sort"
      ],
      "execution_count": 63,
      "outputs": []
    }
  ]
}